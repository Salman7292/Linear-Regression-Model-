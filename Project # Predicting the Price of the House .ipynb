{
 "cells": [
  {
   "cell_type": "markdown",
   "id": "005b99db",
   "metadata": {},
   "source": [
    "<h1><center>Training A Model To predict the House price</center></h1>\n",
    "<img src=\"0_6odQHEjAdp40W2Nc.webp\" alt=\"alternative_text\">"
   ]
  },
  {
   "cell_type": "markdown",
   "id": "d8fa51a1",
   "metadata": {},
   "source": [
    "## Defining the Problem Statement:\n",
    "<p>A real state agents want the help to predict the house price for regions in the USA. He gave you the dataset to work on and you decided to use Linear Regressioon Model. Create a model which will help him to estimate of what the house would sell for.\n",
    "</p>\n",
    "\n",
    "## Describe the DataSet:\n",
    "<Ul>\n",
    "    <li><b>Avg. Area Income            :</b> Avg. Income of householder of the city house is located in.</li>\n",
    "    <li><b>Avg. Area House Age         :</b> Avg. Age of Houses in same city.</li>\n",
    "    <li><b>Avg. Area Number of Rooms   :</b>  Avg. Number of Rooms for Houses in same city.</li>\n",
    "    <li><b>Avg. Area Number of Bedrooms:</b>  Avg. Number of Bedrooms for Houses in same city.</li>\n",
    "    <li><b>Area Population             : </b>  Population of city.</li>\n",
    "    <li><b>Price                       :</b>  Price that the house sold at.</li>\n",
    "    <li><b>Address                     :</b>  Address of the houses.</li>\n",
    "\n",
    "</Ul>\n",
    "\n",
    "\n",
    "    "
   ]
  },
  {
   "cell_type": "markdown",
   "id": "8799a1f3",
   "metadata": {},
   "source": [
    "<h1><center>Work Flow</center></h1>\n",
    "<img src=\"2.png\" alt=\"alternative_text\">"
   ]
  },
  {
   "cell_type": "markdown",
   "id": "d1bf0889",
   "metadata": {},
   "source": [
    "# import the nacassary libries"
   ]
  },
  {
   "cell_type": "code",
   "execution_count": 1,
   "id": "ce288628",
   "metadata": {},
   "outputs": [],
   "source": [
    "import pandas as pd\n",
    "import matplotlib.pyplot as plt\n",
    "import seaborn as sns"
   ]
  },
  {
   "cell_type": "markdown",
   "id": "f815a9b5",
   "metadata": {},
   "source": [
    "# load the dataSet"
   ]
  },
  {
   "cell_type": "code",
   "execution_count": 2,
   "id": "67968336",
   "metadata": {},
   "outputs": [
    {
     "data": {
      "text/html": [
       "<div>\n",
       "<style scoped>\n",
       "    .dataframe tbody tr th:only-of-type {\n",
       "        vertical-align: middle;\n",
       "    }\n",
       "\n",
       "    .dataframe tbody tr th {\n",
       "        vertical-align: top;\n",
       "    }\n",
       "\n",
       "    .dataframe thead th {\n",
       "        text-align: right;\n",
       "    }\n",
       "</style>\n",
       "<table border=\"1\" class=\"dataframe\">\n",
       "  <thead>\n",
       "    <tr style=\"text-align: right;\">\n",
       "      <th></th>\n",
       "      <th>Avg. Area Income</th>\n",
       "      <th>Avg. Area House Age</th>\n",
       "      <th>Avg. Area Number of Rooms</th>\n",
       "      <th>Avg. Area Number of Bedrooms</th>\n",
       "      <th>Area Population</th>\n",
       "      <th>Price</th>\n",
       "      <th>Address</th>\n",
       "    </tr>\n",
       "  </thead>\n",
       "  <tbody>\n",
       "    <tr>\n",
       "      <th>0</th>\n",
       "      <td>79545.45857</td>\n",
       "      <td>5.682861</td>\n",
       "      <td>7.009188</td>\n",
       "      <td>4.09</td>\n",
       "      <td>23086.80050</td>\n",
       "      <td>1.059034e+06</td>\n",
       "      <td>208 Michael Ferry Apt. 674\\nLaurabury, NE 3701...</td>\n",
       "    </tr>\n",
       "    <tr>\n",
       "      <th>1</th>\n",
       "      <td>79248.64245</td>\n",
       "      <td>6.002900</td>\n",
       "      <td>6.730821</td>\n",
       "      <td>3.09</td>\n",
       "      <td>40173.07217</td>\n",
       "      <td>1.505891e+06</td>\n",
       "      <td>188 Johnson Views Suite 079\\nLake Kathleen, CA...</td>\n",
       "    </tr>\n",
       "    <tr>\n",
       "      <th>2</th>\n",
       "      <td>61287.06718</td>\n",
       "      <td>5.865890</td>\n",
       "      <td>8.512727</td>\n",
       "      <td>5.13</td>\n",
       "      <td>36882.15940</td>\n",
       "      <td>1.058988e+06</td>\n",
       "      <td>9127 Elizabeth Stravenue\\nDanieltown, WI 06482...</td>\n",
       "    </tr>\n",
       "    <tr>\n",
       "      <th>3</th>\n",
       "      <td>63345.24005</td>\n",
       "      <td>7.188236</td>\n",
       "      <td>5.586729</td>\n",
       "      <td>3.26</td>\n",
       "      <td>34310.24283</td>\n",
       "      <td>1.260617e+06</td>\n",
       "      <td>USS Barnett\\nFPO AP 44820</td>\n",
       "    </tr>\n",
       "    <tr>\n",
       "      <th>4</th>\n",
       "      <td>59982.19723</td>\n",
       "      <td>5.040555</td>\n",
       "      <td>7.839388</td>\n",
       "      <td>4.23</td>\n",
       "      <td>26354.10947</td>\n",
       "      <td>6.309435e+05</td>\n",
       "      <td>USNS Raymond\\nFPO AE 09386</td>\n",
       "    </tr>\n",
       "    <tr>\n",
       "      <th>...</th>\n",
       "      <td>...</td>\n",
       "      <td>...</td>\n",
       "      <td>...</td>\n",
       "      <td>...</td>\n",
       "      <td>...</td>\n",
       "      <td>...</td>\n",
       "      <td>...</td>\n",
       "    </tr>\n",
       "    <tr>\n",
       "      <th>4995</th>\n",
       "      <td>60567.94414</td>\n",
       "      <td>7.830362</td>\n",
       "      <td>6.137356</td>\n",
       "      <td>3.46</td>\n",
       "      <td>22837.36103</td>\n",
       "      <td>1.060194e+06</td>\n",
       "      <td>USNS Williams\\nFPO AP 30153-7653</td>\n",
       "    </tr>\n",
       "    <tr>\n",
       "      <th>4996</th>\n",
       "      <td>78491.27543</td>\n",
       "      <td>6.999135</td>\n",
       "      <td>6.576763</td>\n",
       "      <td>4.02</td>\n",
       "      <td>25616.11549</td>\n",
       "      <td>1.482618e+06</td>\n",
       "      <td>PSC 9258, Box 8489\\nAPO AA 42991-3352</td>\n",
       "    </tr>\n",
       "    <tr>\n",
       "      <th>4997</th>\n",
       "      <td>63390.68689</td>\n",
       "      <td>7.250591</td>\n",
       "      <td>4.805081</td>\n",
       "      <td>2.13</td>\n",
       "      <td>33266.14549</td>\n",
       "      <td>1.030730e+06</td>\n",
       "      <td>4215 Tracy Garden Suite 076\\nJoshualand, VA 01...</td>\n",
       "    </tr>\n",
       "    <tr>\n",
       "      <th>4998</th>\n",
       "      <td>68001.33124</td>\n",
       "      <td>5.534388</td>\n",
       "      <td>7.130144</td>\n",
       "      <td>5.44</td>\n",
       "      <td>42625.62016</td>\n",
       "      <td>1.198657e+06</td>\n",
       "      <td>USS Wallace\\nFPO AE 73316</td>\n",
       "    </tr>\n",
       "    <tr>\n",
       "      <th>4999</th>\n",
       "      <td>65510.58180</td>\n",
       "      <td>5.992305</td>\n",
       "      <td>6.792336</td>\n",
       "      <td>4.07</td>\n",
       "      <td>46501.28380</td>\n",
       "      <td>1.298950e+06</td>\n",
       "      <td>37778 George Ridges Apt. 509\\nEast Holly, NV 2...</td>\n",
       "    </tr>\n",
       "  </tbody>\n",
       "</table>\n",
       "<p>5000 rows × 7 columns</p>\n",
       "</div>"
      ],
      "text/plain": [
       "      Avg. Area Income  Avg. Area House Age  Avg. Area Number of Rooms  \\\n",
       "0          79545.45857             5.682861                   7.009188   \n",
       "1          79248.64245             6.002900                   6.730821   \n",
       "2          61287.06718             5.865890                   8.512727   \n",
       "3          63345.24005             7.188236                   5.586729   \n",
       "4          59982.19723             5.040555                   7.839388   \n",
       "...                ...                  ...                        ...   \n",
       "4995       60567.94414             7.830362                   6.137356   \n",
       "4996       78491.27543             6.999135                   6.576763   \n",
       "4997       63390.68689             7.250591                   4.805081   \n",
       "4998       68001.33124             5.534388                   7.130144   \n",
       "4999       65510.58180             5.992305                   6.792336   \n",
       "\n",
       "      Avg. Area Number of Bedrooms  Area Population         Price  \\\n",
       "0                             4.09      23086.80050  1.059034e+06   \n",
       "1                             3.09      40173.07217  1.505891e+06   \n",
       "2                             5.13      36882.15940  1.058988e+06   \n",
       "3                             3.26      34310.24283  1.260617e+06   \n",
       "4                             4.23      26354.10947  6.309435e+05   \n",
       "...                            ...              ...           ...   \n",
       "4995                          3.46      22837.36103  1.060194e+06   \n",
       "4996                          4.02      25616.11549  1.482618e+06   \n",
       "4997                          2.13      33266.14549  1.030730e+06   \n",
       "4998                          5.44      42625.62016  1.198657e+06   \n",
       "4999                          4.07      46501.28380  1.298950e+06   \n",
       "\n",
       "                                                Address  \n",
       "0     208 Michael Ferry Apt. 674\\nLaurabury, NE 3701...  \n",
       "1     188 Johnson Views Suite 079\\nLake Kathleen, CA...  \n",
       "2     9127 Elizabeth Stravenue\\nDanieltown, WI 06482...  \n",
       "3                             USS Barnett\\nFPO AP 44820  \n",
       "4                            USNS Raymond\\nFPO AE 09386  \n",
       "...                                                 ...  \n",
       "4995                   USNS Williams\\nFPO AP 30153-7653  \n",
       "4996              PSC 9258, Box 8489\\nAPO AA 42991-3352  \n",
       "4997  4215 Tracy Garden Suite 076\\nJoshualand, VA 01...  \n",
       "4998                          USS Wallace\\nFPO AE 73316  \n",
       "4999  37778 George Ridges Apt. 509\\nEast Holly, NV 2...  \n",
       "\n",
       "[5000 rows x 7 columns]"
      ]
     },
     "execution_count": 2,
     "metadata": {},
     "output_type": "execute_result"
    }
   ],
   "source": [
    "data=pd.read_csv(\"USA_Housing.csv\")\n",
    "data"
   ]
  },
  {
   "cell_type": "markdown",
   "id": "816e0654",
   "metadata": {},
   "source": [
    "### Collecting the basic information about the dataset"
   ]
  },
  {
   "cell_type": "code",
   "execution_count": 3,
   "id": "54dce16f",
   "metadata": {},
   "outputs": [
    {
     "data": {
      "text/plain": [
       "(5000, 7)"
      ]
     },
     "execution_count": 3,
     "metadata": {},
     "output_type": "execute_result"
    }
   ],
   "source": [
    "data.shape"
   ]
  },
  {
   "cell_type": "code",
   "execution_count": 4,
   "id": "73a7ced1",
   "metadata": {},
   "outputs": [
    {
     "name": "stdout",
     "output_type": "stream",
     "text": [
      "<class 'pandas.core.frame.DataFrame'>\n",
      "RangeIndex: 5000 entries, 0 to 4999\n",
      "Data columns (total 7 columns):\n",
      " #   Column                        Non-Null Count  Dtype  \n",
      "---  ------                        --------------  -----  \n",
      " 0   Avg. Area Income              5000 non-null   float64\n",
      " 1   Avg. Area House Age           5000 non-null   float64\n",
      " 2   Avg. Area Number of Rooms     5000 non-null   float64\n",
      " 3   Avg. Area Number of Bedrooms  5000 non-null   float64\n",
      " 4   Area Population               5000 non-null   float64\n",
      " 5   Price                         5000 non-null   float64\n",
      " 6   Address                       5000 non-null   object \n",
      "dtypes: float64(6), object(1)\n",
      "memory usage: 273.6+ KB\n"
     ]
    }
   ],
   "source": [
    "data.info()"
   ]
  },
  {
   "cell_type": "code",
   "execution_count": 5,
   "id": "a6954448",
   "metadata": {},
   "outputs": [
    {
     "data": {
      "text/plain": [
       "Avg. Area Income                float64\n",
       "Avg. Area House Age             float64\n",
       "Avg. Area Number of Rooms       float64\n",
       "Avg. Area Number of Bedrooms    float64\n",
       "Area Population                 float64\n",
       "Price                           float64\n",
       "Address                          object\n",
       "dtype: object"
      ]
     },
     "execution_count": 5,
     "metadata": {},
     "output_type": "execute_result"
    }
   ],
   "source": [
    "data.dtypes"
   ]
  },
  {
   "cell_type": "markdown",
   "id": "ab5789b8",
   "metadata": {},
   "source": [
    "### finding the Duplicate rows in the Dataset"
   ]
  },
  {
   "cell_type": "code",
   "execution_count": 6,
   "id": "d63a9c26",
   "metadata": {},
   "outputs": [
    {
     "data": {
      "text/html": [
       "<div>\n",
       "<style scoped>\n",
       "    .dataframe tbody tr th:only-of-type {\n",
       "        vertical-align: middle;\n",
       "    }\n",
       "\n",
       "    .dataframe tbody tr th {\n",
       "        vertical-align: top;\n",
       "    }\n",
       "\n",
       "    .dataframe thead th {\n",
       "        text-align: right;\n",
       "    }\n",
       "</style>\n",
       "<table border=\"1\" class=\"dataframe\">\n",
       "  <thead>\n",
       "    <tr style=\"text-align: right;\">\n",
       "      <th></th>\n",
       "      <th>Avg. Area Income</th>\n",
       "      <th>Avg. Area House Age</th>\n",
       "      <th>Avg. Area Number of Rooms</th>\n",
       "      <th>Avg. Area Number of Bedrooms</th>\n",
       "      <th>Area Population</th>\n",
       "      <th>Price</th>\n",
       "      <th>Address</th>\n",
       "    </tr>\n",
       "  </thead>\n",
       "  <tbody>\n",
       "  </tbody>\n",
       "</table>\n",
       "</div>"
      ],
      "text/plain": [
       "Empty DataFrame\n",
       "Columns: [Avg. Area Income, Avg. Area House Age, Avg. Area Number of Rooms, Avg. Area Number of Bedrooms, Area Population, Price, Address]\n",
       "Index: []"
      ]
     },
     "execution_count": 6,
     "metadata": {},
     "output_type": "execute_result"
    }
   ],
   "source": [
    "Duplicate_row=data[data.duplicated()]\n",
    "Duplicate_row"
   ]
  },
  {
   "cell_type": "markdown",
   "id": "aa66e064",
   "metadata": {},
   "source": [
    "there is no any duplicated rows in the dataset "
   ]
  },
  {
   "cell_type": "markdown",
   "id": "57a01994",
   "metadata": {},
   "source": [
    "## Detecting the missing value "
   ]
  },
  {
   "cell_type": "code",
   "execution_count": 7,
   "id": "09a15190",
   "metadata": {},
   "outputs": [
    {
     "data": {
      "text/plain": [
       "Avg. Area Income                5000\n",
       "Avg. Area House Age             5000\n",
       "Avg. Area Number of Rooms       5000\n",
       "Avg. Area Number of Bedrooms    5000\n",
       "Area Population                 5000\n",
       "Price                           5000\n",
       "Address                         5000\n",
       "dtype: int64"
      ]
     },
     "execution_count": 7,
     "metadata": {},
     "output_type": "execute_result"
    }
   ],
   "source": [
    "data.count()"
   ]
  },
  {
   "cell_type": "markdown",
   "id": "75197a48",
   "metadata": {},
   "source": [
    "These are the Non Null Value of above columns "
   ]
  },
  {
   "cell_type": "code",
   "execution_count": 8,
   "id": "37529665",
   "metadata": {},
   "outputs": [
    {
     "data": {
      "text/plain": [
       "Avg. Area Income                0\n",
       "Avg. Area House Age             0\n",
       "Avg. Area Number of Rooms       0\n",
       "Avg. Area Number of Bedrooms    0\n",
       "Area Population                 0\n",
       "Price                           0\n",
       "Address                         0\n",
       "dtype: int64"
      ]
     },
     "execution_count": 8,
     "metadata": {},
     "output_type": "execute_result"
    }
   ],
   "source": [
    "data.isnull().sum()"
   ]
  },
  {
   "cell_type": "markdown",
   "id": "55c0e97f",
   "metadata": {},
   "source": [
    "#### wow there is no any missing value in the data set so we are free to move Ahad"
   ]
  },
  {
   "cell_type": "markdown",
   "id": "087f60fc",
   "metadata": {},
   "source": [
    "# Detecting the Outliers"
   ]
  },
  {
   "cell_type": "code",
   "execution_count": 9,
   "id": "0ffd7ba6",
   "metadata": {},
   "outputs": [
    {
     "data": {
      "text/html": [
       "<div>\n",
       "<style scoped>\n",
       "    .dataframe tbody tr th:only-of-type {\n",
       "        vertical-align: middle;\n",
       "    }\n",
       "\n",
       "    .dataframe tbody tr th {\n",
       "        vertical-align: top;\n",
       "    }\n",
       "\n",
       "    .dataframe thead th {\n",
       "        text-align: right;\n",
       "    }\n",
       "</style>\n",
       "<table border=\"1\" class=\"dataframe\">\n",
       "  <thead>\n",
       "    <tr style=\"text-align: right;\">\n",
       "      <th></th>\n",
       "      <th>Avg. Area Income</th>\n",
       "      <th>Avg. Area House Age</th>\n",
       "      <th>Avg. Area Number of Rooms</th>\n",
       "      <th>Avg. Area Number of Bedrooms</th>\n",
       "      <th>Area Population</th>\n",
       "      <th>Price</th>\n",
       "      <th>Address</th>\n",
       "    </tr>\n",
       "  </thead>\n",
       "  <tbody>\n",
       "    <tr>\n",
       "      <th>0</th>\n",
       "      <td>79545.45857</td>\n",
       "      <td>5.682861</td>\n",
       "      <td>7.009188</td>\n",
       "      <td>4.09</td>\n",
       "      <td>23086.80050</td>\n",
       "      <td>1059033.558</td>\n",
       "      <td>208 Michael Ferry Apt. 674\\nLaurabury, NE 3701...</td>\n",
       "    </tr>\n",
       "    <tr>\n",
       "      <th>1</th>\n",
       "      <td>79248.64245</td>\n",
       "      <td>6.002900</td>\n",
       "      <td>6.730821</td>\n",
       "      <td>3.09</td>\n",
       "      <td>40173.07217</td>\n",
       "      <td>1505890.915</td>\n",
       "      <td>188 Johnson Views Suite 079\\nLake Kathleen, CA...</td>\n",
       "    </tr>\n",
       "    <tr>\n",
       "      <th>2</th>\n",
       "      <td>61287.06718</td>\n",
       "      <td>5.865890</td>\n",
       "      <td>8.512727</td>\n",
       "      <td>5.13</td>\n",
       "      <td>36882.15940</td>\n",
       "      <td>1058987.988</td>\n",
       "      <td>9127 Elizabeth Stravenue\\nDanieltown, WI 06482...</td>\n",
       "    </tr>\n",
       "  </tbody>\n",
       "</table>\n",
       "</div>"
      ],
      "text/plain": [
       "   Avg. Area Income  Avg. Area House Age  Avg. Area Number of Rooms  \\\n",
       "0       79545.45857             5.682861                   7.009188   \n",
       "1       79248.64245             6.002900                   6.730821   \n",
       "2       61287.06718             5.865890                   8.512727   \n",
       "\n",
       "   Avg. Area Number of Bedrooms  Area Population        Price  \\\n",
       "0                          4.09      23086.80050  1059033.558   \n",
       "1                          3.09      40173.07217  1505890.915   \n",
       "2                          5.13      36882.15940  1058987.988   \n",
       "\n",
       "                                             Address  \n",
       "0  208 Michael Ferry Apt. 674\\nLaurabury, NE 3701...  \n",
       "1  188 Johnson Views Suite 079\\nLake Kathleen, CA...  \n",
       "2  9127 Elizabeth Stravenue\\nDanieltown, WI 06482...  "
      ]
     },
     "execution_count": 9,
     "metadata": {},
     "output_type": "execute_result"
    }
   ],
   "source": [
    "data.head(3)"
   ]
  },
  {
   "cell_type": "code",
   "execution_count": 10,
   "id": "3bf9c0e3",
   "metadata": {},
   "outputs": [
    {
     "data": {
      "text/html": [
       "<div>\n",
       "<style scoped>\n",
       "    .dataframe tbody tr th:only-of-type {\n",
       "        vertical-align: middle;\n",
       "    }\n",
       "\n",
       "    .dataframe tbody tr th {\n",
       "        vertical-align: top;\n",
       "    }\n",
       "\n",
       "    .dataframe thead th {\n",
       "        text-align: right;\n",
       "    }\n",
       "</style>\n",
       "<table border=\"1\" class=\"dataframe\">\n",
       "  <thead>\n",
       "    <tr style=\"text-align: right;\">\n",
       "      <th></th>\n",
       "      <th>Avg. Area Income</th>\n",
       "      <th>Avg. Area House Age</th>\n",
       "      <th>Avg. Area Number of Rooms</th>\n",
       "      <th>Avg. Area Number of Bedrooms</th>\n",
       "      <th>Area Population</th>\n",
       "      <th>Price</th>\n",
       "    </tr>\n",
       "  </thead>\n",
       "  <tbody>\n",
       "    <tr>\n",
       "      <th>0</th>\n",
       "      <td>79545.45857</td>\n",
       "      <td>5.682861</td>\n",
       "      <td>7.009188</td>\n",
       "      <td>4.09</td>\n",
       "      <td>23086.80050</td>\n",
       "      <td>1059033.558</td>\n",
       "    </tr>\n",
       "    <tr>\n",
       "      <th>1</th>\n",
       "      <td>79248.64245</td>\n",
       "      <td>6.002900</td>\n",
       "      <td>6.730821</td>\n",
       "      <td>3.09</td>\n",
       "      <td>40173.07217</td>\n",
       "      <td>1505890.915</td>\n",
       "    </tr>\n",
       "  </tbody>\n",
       "</table>\n",
       "</div>"
      ],
      "text/plain": [
       "   Avg. Area Income  Avg. Area House Age  Avg. Area Number of Rooms  \\\n",
       "0       79545.45857             5.682861                   7.009188   \n",
       "1       79248.64245             6.002900                   6.730821   \n",
       "\n",
       "   Avg. Area Number of Bedrooms  Area Population        Price  \n",
       "0                          4.09      23086.80050  1059033.558  \n",
       "1                          3.09      40173.07217  1505890.915  "
      ]
     },
     "execution_count": 10,
     "metadata": {},
     "output_type": "execute_result"
    }
   ],
   "source": [
    "new_data=data.drop(columns=['Address'])\n",
    "new_data.head(2)"
   ]
  },
  {
   "cell_type": "markdown",
   "id": "c4bad37f",
   "metadata": {},
   "source": [
    "### Visulizing the data"
   ]
  },
  {
   "cell_type": "markdown",
   "id": "5065f72d",
   "metadata": {},
   "source": [
    "#### Outliers in Avg. Area Income Feature:"
   ]
  },
  {
   "cell_type": "code",
   "execution_count": 11,
   "id": "cc2e8bc7",
   "metadata": {},
   "outputs": [
    {
     "data": {
      "image/png": "[encoded data removed]",
      "text/plain": [
       "<Figure size 1000x400 with 1 Axes>"
      ]
     },
     "metadata": {},
     "output_type": "display_data"
    }
   ],
   "source": [
    "plt.figure(figsize=(10,4))\n",
    "sns.boxplot(x=new_data['Avg. Area Income'],data=data)\n",
    "plt.title(\"Outlier in Avg. Area Income\")\n",
    "plt.show()"
   ]
  },
  {
   "cell_type": "markdown",
   "id": "e510ef3e",
   "metadata": {},
   "source": [
    "#### Outliers in Avg. Area House Age Feature:"
   ]
  },
  {
   "cell_type": "code",
   "execution_count": 12,
   "id": "009ccfd6",
   "metadata": {},
   "outputs": [
    {
     "data": {
      "image/png": "[encoded data removed]",
      "text/plain": [
       "<Figure size 1000x400 with 1 Axes>"
      ]
     },
     "metadata": {},
     "output_type": "display_data"
    }
   ],
   "source": [
    "plt.figure(figsize=(10,4))\n",
    "sns.boxplot(x=new_data['Avg. Area House Age'],data=data,color=\"darkorange\")\n",
    "plt.title(\"Outlier in Avg. Area House Age\")\n",
    "plt.show()"
   ]
  },
  {
   "cell_type": "markdown",
   "id": "79b0e091",
   "metadata": {},
   "source": [
    "#### Outliers in Avg. Area Number of Rooms Feature:"
   ]
  },
  {
   "cell_type": "code",
   "execution_count": 13,
   "id": "deb08594",
   "metadata": {},
   "outputs": [
    {
     "data": {
      "image/png": "[encoded data removed]",
      "text/plain": [
       "<Figure size 1000x400 with 1 Axes>"
      ]
     },
     "metadata": {},
     "output_type": "display_data"
    }
   ],
   "source": [
    "plt.figure(figsize=(10,4))\n",
    "sns.boxplot(x=new_data['Avg. Area Number of Rooms'],data=data,color=\"darkorange\", saturation=0.5)\n",
    "plt.title(\"Outlier in Avg. Area Number of Rooms\")\n",
    "plt.show()"
   ]
  },
  {
   "cell_type": "markdown",
   "id": "b076a8b6",
   "metadata": {},
   "source": [
    "#### Outliers inAvg. Area Number of Bedrooms Feature:"
   ]
  },
  {
   "cell_type": "code",
   "execution_count": 14,
   "id": "d3c8c853",
   "metadata": {},
   "outputs": [
    {
     "data": {
      "image/png": "[encoded data removed]",
      "text/plain": [
       "<Figure size 1000x400 with 1 Axes>"
      ]
     },
     "metadata": {},
     "output_type": "display_data"
    }
   ],
   "source": [
    "\n",
    "plt.figure(figsize=(10,4))\n",
    "sns.boxplot(x=new_data['Avg. Area Number of Bedrooms'],data=data,color=\"lightcoral\", saturation=0.5)\n",
    "plt.title(\"Outlier inAvg. Area Number of Bedrooms\")\n",
    "plt.show()"
   ]
  },
  {
   "cell_type": "markdown",
   "id": "ccfb21c5",
   "metadata": {},
   "source": [
    "#### Outliers in Area Population Feature:"
   ]
  },
  {
   "cell_type": "code",
   "execution_count": 15,
   "id": "83ecd547",
   "metadata": {},
   "outputs": [
    {
     "data": {
      "image/png": "[encoded data removed]",
      "text/plain": [
       "<Figure size 1000x400 with 1 Axes>"
      ]
     },
     "metadata": {},
     "output_type": "display_data"
    }
   ],
   "source": [
    "\n",
    "plt.figure(figsize=(10,4))\n",
    "sns.boxplot(x=new_data['Area Population'],data=data,color=\"lightgreen\", saturation=0.5)\n",
    "plt.title(\"Outlier in Area Population\")\n",
    "plt.show()"
   ]
  },
  {
   "cell_type": "markdown",
   "id": "ec111fb8",
   "metadata": {},
   "source": [
    "#### Outliers in Price Feature:"
   ]
  },
  {
   "cell_type": "code",
   "execution_count": 16,
   "id": "5a6652fa",
   "metadata": {},
   "outputs": [
    {
     "data": {
      "image/png": "[encoded data removed]",
      "text/plain": [
       "<Figure size 1000x400 with 1 Axes>"
      ]
     },
     "metadata": {},
     "output_type": "display_data"
    }
   ],
   "source": [
    "\n",
    "plt.figure(figsize=(10,4))\n",
    "sns.boxplot(x=new_data['Price'],data=data,color=\"lightgreen\", saturation=0.5)\n",
    "plt.title(\"Outlier in Price\")\n",
    "plt.show()"
   ]
  },
  {
   "cell_type": "markdown",
   "id": "9004bdaf",
   "metadata": {},
   "source": [
    "From the above graph we can see the outliers in diffrent columns"
   ]
  },
  {
   "cell_type": "markdown",
   "id": "cb6cedaf",
   "metadata": {},
   "source": [
    "# Removing the Outliers from the dataset"
   ]
  },
  {
   "cell_type": "markdown",
   "id": "c9582fce",
   "metadata": {},
   "source": [
    "## Price Feature"
   ]
  },
  {
   "cell_type": "markdown",
   "id": "95eef16e",
   "metadata": {},
   "source": [
    "there is many outliers in price columns we will try to remove these outliers "
   ]
  },
  {
   "cell_type": "markdown",
   "id": "5e1cc719",
   "metadata": {},
   "source": [
    "#### IQR FOR Price"
   ]
  },
  {
   "cell_type": "code",
   "execution_count": 17,
   "id": "8d2078b2",
   "metadata": {},
   "outputs": [
    {
     "name": "stdout",
     "output_type": "stream",
     "text": [
      "Q1 : 997577.135075\n",
      "Q3 : 1471210.2045\n",
      "IQR : 473633.069425\n",
      "lower_bound : 287127.53093749995\n",
      "upper_bound : 2181659.8086375\n"
     ]
    }
   ],
   "source": [
    "Q1 = data[\"Price\"].quantile(0.25)\n",
    "Q3 = data[\"Price\"].quantile(0.75)\n",
    "IQR = Q3 - Q1\n",
    "lower_bound = Q1 - 1.5 * IQR\n",
    "upper_bound = Q3 + 1.5 * IQR\n",
    "\n",
    "print(\"Q1 :\",Q1)\n",
    "print(\"Q3 :\",Q3)\n",
    "print(\"IQR :\",IQR)\n",
    "print(\"lower_bound :\",lower_bound)\n",
    "print(\"upper_bound :\",upper_bound)"
   ]
  },
  {
   "cell_type": "markdown",
   "id": "ee2ce9ec",
   "metadata": {},
   "source": [
    "Now finding the rows where these outliers present"
   ]
  },
  {
   "cell_type": "code",
   "execution_count": 18,
   "id": "8aca7fd0",
   "metadata": {},
   "outputs": [
    {
     "data": {
      "text/html": [
       "<div>\n",
       "<style scoped>\n",
       "    .dataframe tbody tr th:only-of-type {\n",
       "        vertical-align: middle;\n",
       "    }\n",
       "\n",
       "    .dataframe tbody tr th {\n",
       "        vertical-align: top;\n",
       "    }\n",
       "\n",
       "    .dataframe thead th {\n",
       "        text-align: right;\n",
       "    }\n",
       "</style>\n",
       "<table border=\"1\" class=\"dataframe\">\n",
       "  <thead>\n",
       "    <tr style=\"text-align: right;\">\n",
       "      <th></th>\n",
       "      <th>Price</th>\n",
       "    </tr>\n",
       "  </thead>\n",
       "  <tbody>\n",
       "    <tr>\n",
       "      <th>90</th>\n",
       "      <td>2.018981e+05</td>\n",
       "    </tr>\n",
       "    <tr>\n",
       "      <th>256</th>\n",
       "      <td>2.298379e+06</td>\n",
       "    </tr>\n",
       "    <tr>\n",
       "      <th>263</th>\n",
       "      <td>1.520719e+05</td>\n",
       "    </tr>\n",
       "    <tr>\n",
       "      <th>355</th>\n",
       "      <td>2.249123e+06</td>\n",
       "    </tr>\n",
       "    <tr>\n",
       "      <th>465</th>\n",
       "      <td>2.469066e+06</td>\n",
       "    </tr>\n",
       "    <tr>\n",
       "      <th>622</th>\n",
       "      <td>2.252243e+06</td>\n",
       "    </tr>\n",
       "    <tr>\n",
       "      <th>693</th>\n",
       "      <td>2.332111e+06</td>\n",
       "    </tr>\n",
       "    <tr>\n",
       "      <th>696</th>\n",
       "      <td>2.832081e+05</td>\n",
       "    </tr>\n",
       "    <tr>\n",
       "      <th>715</th>\n",
       "      <td>2.237778e+06</td>\n",
       "    </tr>\n",
       "    <tr>\n",
       "      <th>901</th>\n",
       "      <td>2.271113e+06</td>\n",
       "    </tr>\n",
       "    <tr>\n",
       "      <th>924</th>\n",
       "      <td>2.330290e+06</td>\n",
       "    </tr>\n",
       "    <tr>\n",
       "      <th>990</th>\n",
       "      <td>2.185480e+06</td>\n",
       "    </tr>\n",
       "    <tr>\n",
       "      <th>1208</th>\n",
       "      <td>2.198565e+06</td>\n",
       "    </tr>\n",
       "    <tr>\n",
       "      <th>1248</th>\n",
       "      <td>2.318286e+06</td>\n",
       "    </tr>\n",
       "    <tr>\n",
       "      <th>1271</th>\n",
       "      <td>3.114052e+04</td>\n",
       "    </tr>\n",
       "    <tr>\n",
       "      <th>1356</th>\n",
       "      <td>2.393199e+05</td>\n",
       "    </tr>\n",
       "    <tr>\n",
       "      <th>1459</th>\n",
       "      <td>1.430274e+05</td>\n",
       "    </tr>\n",
       "    <tr>\n",
       "      <th>1485</th>\n",
       "      <td>2.186195e+06</td>\n",
       "    </tr>\n",
       "    <tr>\n",
       "      <th>1516</th>\n",
       "      <td>2.220799e+06</td>\n",
       "    </tr>\n",
       "    <tr>\n",
       "      <th>1536</th>\n",
       "      <td>2.235295e+06</td>\n",
       "    </tr>\n",
       "    <tr>\n",
       "      <th>1578</th>\n",
       "      <td>2.110180e+05</td>\n",
       "    </tr>\n",
       "    <tr>\n",
       "      <th>1661</th>\n",
       "      <td>1.515271e+05</td>\n",
       "    </tr>\n",
       "    <tr>\n",
       "      <th>1799</th>\n",
       "      <td>8.859177e+04</td>\n",
       "    </tr>\n",
       "    <tr>\n",
       "      <th>2300</th>\n",
       "      <td>2.275455e+06</td>\n",
       "    </tr>\n",
       "    <tr>\n",
       "      <th>2538</th>\n",
       "      <td>2.294648e+06</td>\n",
       "    </tr>\n",
       "    <tr>\n",
       "      <th>2719</th>\n",
       "      <td>2.370231e+06</td>\n",
       "    </tr>\n",
       "    <tr>\n",
       "      <th>2756</th>\n",
       "      <td>2.311898e+05</td>\n",
       "    </tr>\n",
       "    <tr>\n",
       "      <th>2795</th>\n",
       "      <td>2.197437e+06</td>\n",
       "    </tr>\n",
       "    <tr>\n",
       "      <th>3091</th>\n",
       "      <td>2.680508e+05</td>\n",
       "    </tr>\n",
       "    <tr>\n",
       "      <th>3212</th>\n",
       "      <td>1.593866e+04</td>\n",
       "    </tr>\n",
       "    <tr>\n",
       "      <th>3502</th>\n",
       "      <td>2.190339e+06</td>\n",
       "    </tr>\n",
       "    <tr>\n",
       "      <th>3922</th>\n",
       "      <td>2.662989e+05</td>\n",
       "    </tr>\n",
       "    <tr>\n",
       "      <th>4129</th>\n",
       "      <td>2.187326e+06</td>\n",
       "    </tr>\n",
       "    <tr>\n",
       "      <th>4400</th>\n",
       "      <td>2.219724e+06</td>\n",
       "    </tr>\n",
       "    <tr>\n",
       "      <th>4451</th>\n",
       "      <td>2.531857e+05</td>\n",
       "    </tr>\n",
       "  </tbody>\n",
       "</table>\n",
       "</div>"
      ],
      "text/plain": [
       "             Price\n",
       "90    2.018981e+05\n",
       "256   2.298379e+06\n",
       "263   1.520719e+05\n",
       "355   2.249123e+06\n",
       "465   2.469066e+06\n",
       "622   2.252243e+06\n",
       "693   2.332111e+06\n",
       "696   2.832081e+05\n",
       "715   2.237778e+06\n",
       "901   2.271113e+06\n",
       "924   2.330290e+06\n",
       "990   2.185480e+06\n",
       "1208  2.198565e+06\n",
       "1248  2.318286e+06\n",
       "1271  3.114052e+04\n",
       "1356  2.393199e+05\n",
       "1459  1.430274e+05\n",
       "1485  2.186195e+06\n",
       "1516  2.220799e+06\n",
       "1536  2.235295e+06\n",
       "1578  2.110180e+05\n",
       "1661  1.515271e+05\n",
       "1799  8.859177e+04\n",
       "2300  2.275455e+06\n",
       "2538  2.294648e+06\n",
       "2719  2.370231e+06\n",
       "2756  2.311898e+05\n",
       "2795  2.197437e+06\n",
       "3091  2.680508e+05\n",
       "3212  1.593866e+04\n",
       "3502  2.190339e+06\n",
       "3922  2.662989e+05\n",
       "4129  2.187326e+06\n",
       "4400  2.219724e+06\n",
       "4451  2.531857e+05"
      ]
     },
     "execution_count": 18,
     "metadata": {},
     "output_type": "execute_result"
    }
   ],
   "source": [
    "Outliers_OF_Price = data[\"Price\"].loc[(data[\"Price\"] < lower_bound) | (data[\"Price\"] > upper_bound)]\n",
    "Outliers_OF_Price=pd.DataFrame(Outliers_OF_Price)\n",
    "Outliers_OF_Price"
   ]
  },
  {
   "cell_type": "code",
   "execution_count": 19,
   "id": "3d93f6f7",
   "metadata": {},
   "outputs": [
    {
     "data": {
      "text/plain": [
       "(35, 1)"
      ]
     },
     "execution_count": 19,
     "metadata": {},
     "output_type": "execute_result"
    }
   ],
   "source": [
    "Outliers_OF_Price.shape"
   ]
  },
  {
   "cell_type": "code",
   "execution_count": 20,
   "id": "9207d2e1",
   "metadata": {},
   "outputs": [
    {
     "data": {
      "text/plain": [
       "[90,\n",
       " 256,\n",
       " 263,\n",
       " 355,\n",
       " 465,\n",
       " 622,\n",
       " 693,\n",
       " 696,\n",
       " 715,\n",
       " 901,\n",
       " 924,\n",
       " 990,\n",
       " 1208,\n",
       " 1248,\n",
       " 1271,\n",
       " 1356,\n",
       " 1459,\n",
       " 1485,\n",
       " 1516,\n",
       " 1536,\n",
       " 1578,\n",
       " 1661,\n",
       " 1799,\n",
       " 2300,\n",
       " 2538,\n",
       " 2719,\n",
       " 2756,\n",
       " 2795,\n",
       " 3091,\n",
       " 3212,\n",
       " 3502,\n",
       " 3922,\n",
       " 4129,\n",
       " 4400,\n",
       " 4451]"
      ]
     },
     "execution_count": 20,
     "metadata": {},
     "output_type": "execute_result"
    }
   ],
   "source": [
    "listindex=list()\n",
    "for i in Outliers_OF_Price.index:\n",
    "    listindex.append(i)\n",
    "listindex\n",
    "    "
   ]
  },
  {
   "cell_type": "code",
   "execution_count": 21,
   "id": "663f0f31",
   "metadata": {},
   "outputs": [
    {
     "data": {
      "text/plain": [
       "(5000, 7)"
      ]
     },
     "execution_count": 21,
     "metadata": {},
     "output_type": "execute_result"
    }
   ],
   "source": [
    "data.shape"
   ]
  },
  {
   "cell_type": "markdown",
   "id": "2d0d4438",
   "metadata": {},
   "source": [
    "##### Now drop all the outliers columns"
   ]
  },
  {
   "cell_type": "code",
   "execution_count": 22,
   "id": "deccfbe6",
   "metadata": {},
   "outputs": [
    {
     "data": {
      "text/plain": [
       "(4965, 7)"
      ]
     },
     "execution_count": 22,
     "metadata": {},
     "output_type": "execute_result"
    }
   ],
   "source": [
    "data=data.drop(listindex)\n",
    "data.shape"
   ]
  },
  {
   "cell_type": "markdown",
   "id": "3d15f8d9",
   "metadata": {},
   "source": [
    "Now again Display that columns cheacked them outliers remove are not "
   ]
  },
  {
   "cell_type": "code",
   "execution_count": 23,
   "id": "e37e2ffc",
   "metadata": {},
   "outputs": [
    {
     "data": {
      "image/png": "[encoded data removed]",
      "text/plain": [
       "<Figure size 1000x400 with 1 Axes>"
      ]
     },
     "metadata": {},
     "output_type": "display_data"
    }
   ],
   "source": [
    "plt.figure(figsize=(10,4))\n",
    "sns.boxplot(x=data['Price'],data=data,color=\"lightgreen\", saturation=0.5)\n",
    "plt.title(\"Outlier in Price\")\n",
    "plt.show()"
   ]
  },
  {
   "cell_type": "markdown",
   "id": "e15a53c2",
   "metadata": {},
   "source": [
    "### Here you can see that we can successfully Remove the Outliers from price Columns"
   ]
  },
  {
   "cell_type": "markdown",
   "id": "4800b4ef",
   "metadata": {},
   "source": [
    "### Area Population Feature"
   ]
  },
  {
   "cell_type": "markdown",
   "id": "fe566541",
   "metadata": {},
   "source": [
    "#### IQR for Area Population"
   ]
  },
  {
   "cell_type": "code",
   "execution_count": 24,
   "id": "50c1af40",
   "metadata": {},
   "outputs": [
    {
     "name": "stdout",
     "output_type": "stream",
     "text": [
      "Q1 : 29404.06758\n",
      "Q3 : 42803.22141\n",
      "IQR : 13399.15383\n",
      "lower_bound : 9305.336834999998\n",
      "upper_bound : 62901.952155\n"
     ]
    }
   ],
   "source": [
    "Q1 = data[\"Area Population\"].quantile(0.25)\n",
    "Q3 = data[\"Area Population\"].quantile(0.75)\n",
    "IQR = Q3 - Q1\n",
    "lower_bound = Q1 - 1.5 * IQR\n",
    "upper_bound = Q3 + 1.5 * IQR\n",
    "\n",
    "print(\"Q1 :\",Q1)\n",
    "print(\"Q3 :\",Q3)\n",
    "print(\"IQR :\",IQR)\n",
    "print(\"lower_bound :\",lower_bound)\n",
    "print(\"upper_bound :\",upper_bound)"
   ]
  },
  {
   "cell_type": "code",
   "execution_count": 25,
   "id": "2aef203c",
   "metadata": {},
   "outputs": [
    {
     "data": {
      "text/html": [
       "<div>\n",
       "<style scoped>\n",
       "    .dataframe tbody tr th:only-of-type {\n",
       "        vertical-align: middle;\n",
       "    }\n",
       "\n",
       "    .dataframe tbody tr th {\n",
       "        vertical-align: top;\n",
       "    }\n",
       "\n",
       "    .dataframe thead th {\n",
       "        text-align: right;\n",
       "    }\n",
       "</style>\n",
       "<table border=\"1\" class=\"dataframe\">\n",
       "  <thead>\n",
       "    <tr style=\"text-align: right;\">\n",
       "      <th></th>\n",
       "      <th>Area Population</th>\n",
       "    </tr>\n",
       "  </thead>\n",
       "  <tbody>\n",
       "    <tr>\n",
       "      <th>228</th>\n",
       "      <td>69575.449460</td>\n",
       "    </tr>\n",
       "    <tr>\n",
       "      <th>314</th>\n",
       "      <td>172.610686</td>\n",
       "    </tr>\n",
       "    <tr>\n",
       "      <th>353</th>\n",
       "      <td>69553.988330</td>\n",
       "    </tr>\n",
       "    <tr>\n",
       "      <th>643</th>\n",
       "      <td>62963.755390</td>\n",
       "    </tr>\n",
       "    <tr>\n",
       "      <th>1234</th>\n",
       "      <td>67353.965200</td>\n",
       "    </tr>\n",
       "    <tr>\n",
       "      <th>1361</th>\n",
       "      <td>63184.613150</td>\n",
       "    </tr>\n",
       "    <tr>\n",
       "      <th>1530</th>\n",
       "      <td>3285.450538</td>\n",
       "    </tr>\n",
       "    <tr>\n",
       "      <th>1595</th>\n",
       "      <td>69592.040240</td>\n",
       "    </tr>\n",
       "    <tr>\n",
       "      <th>1965</th>\n",
       "      <td>64566.687380</td>\n",
       "    </tr>\n",
       "    <tr>\n",
       "      <th>2108</th>\n",
       "      <td>64543.322450</td>\n",
       "    </tr>\n",
       "    <tr>\n",
       "      <th>2173</th>\n",
       "      <td>67601.223560</td>\n",
       "    </tr>\n",
       "    <tr>\n",
       "      <th>2380</th>\n",
       "      <td>64149.680210</td>\n",
       "    </tr>\n",
       "    <tr>\n",
       "      <th>2392</th>\n",
       "      <td>7522.333138</td>\n",
       "    </tr>\n",
       "    <tr>\n",
       "      <th>2422</th>\n",
       "      <td>65857.933320</td>\n",
       "    </tr>\n",
       "    <tr>\n",
       "      <th>2534</th>\n",
       "      <td>4114.489353</td>\n",
       "    </tr>\n",
       "    <tr>\n",
       "      <th>2603</th>\n",
       "      <td>65184.578470</td>\n",
       "    </tr>\n",
       "    <tr>\n",
       "      <th>2829</th>\n",
       "      <td>6248.756080</td>\n",
       "    </tr>\n",
       "    <tr>\n",
       "      <th>2839</th>\n",
       "      <td>67701.649800</td>\n",
       "    </tr>\n",
       "    <tr>\n",
       "      <th>3120</th>\n",
       "      <td>6805.740783</td>\n",
       "    </tr>\n",
       "    <tr>\n",
       "      <th>3134</th>\n",
       "      <td>66995.474050</td>\n",
       "    </tr>\n",
       "    <tr>\n",
       "      <th>3387</th>\n",
       "      <td>64180.370800</td>\n",
       "    </tr>\n",
       "    <tr>\n",
       "      <th>3442</th>\n",
       "      <td>63620.011960</td>\n",
       "    </tr>\n",
       "    <tr>\n",
       "      <th>3540</th>\n",
       "      <td>6821.950228</td>\n",
       "    </tr>\n",
       "    <tr>\n",
       "      <th>3991</th>\n",
       "      <td>68311.695820</td>\n",
       "    </tr>\n",
       "    <tr>\n",
       "      <th>4182</th>\n",
       "      <td>7234.963521</td>\n",
       "    </tr>\n",
       "    <tr>\n",
       "      <th>4290</th>\n",
       "      <td>7360.295191</td>\n",
       "    </tr>\n",
       "    <tr>\n",
       "      <th>4491</th>\n",
       "      <td>5727.485885</td>\n",
       "    </tr>\n",
       "    <tr>\n",
       "      <th>4684</th>\n",
       "      <td>9193.833182</td>\n",
       "    </tr>\n",
       "    <tr>\n",
       "      <th>4716</th>\n",
       "      <td>67727.229050</td>\n",
       "    </tr>\n",
       "    <tr>\n",
       "      <th>4803</th>\n",
       "      <td>69621.713380</td>\n",
       "    </tr>\n",
       "  </tbody>\n",
       "</table>\n",
       "</div>"
      ],
      "text/plain": [
       "      Area Population\n",
       "228      69575.449460\n",
       "314        172.610686\n",
       "353      69553.988330\n",
       "643      62963.755390\n",
       "1234     67353.965200\n",
       "1361     63184.613150\n",
       "1530      3285.450538\n",
       "1595     69592.040240\n",
       "1965     64566.687380\n",
       "2108     64543.322450\n",
       "2173     67601.223560\n",
       "2380     64149.680210\n",
       "2392      7522.333138\n",
       "2422     65857.933320\n",
       "2534      4114.489353\n",
       "2603     65184.578470\n",
       "2829      6248.756080\n",
       "2839     67701.649800\n",
       "3120      6805.740783\n",
       "3134     66995.474050\n",
       "3387     64180.370800\n",
       "3442     63620.011960\n",
       "3540      6821.950228\n",
       "3991     68311.695820\n",
       "4182      7234.963521\n",
       "4290      7360.295191\n",
       "4491      5727.485885\n",
       "4684      9193.833182\n",
       "4716     67727.229050\n",
       "4803     69621.713380"
      ]
     },
     "execution_count": 25,
     "metadata": {},
     "output_type": "execute_result"
    }
   ],
   "source": [
    "Outliers_OF_Area_Population = data[\"Area Population\"].loc[(data[\"Area Population\"] < lower_bound) | (data[\"Area Population\"] > upper_bound)]\n",
    "Outliers_OF_Area_Population=pd.DataFrame(Outliers_OF_Area_Population)\n",
    "Outliers_OF_Area_Population"
   ]
  },
  {
   "cell_type": "code",
   "execution_count": 26,
   "id": "e9e44220",
   "metadata": {},
   "outputs": [
    {
     "data": {
      "text/plain": [
       "(30, 1)"
      ]
     },
     "execution_count": 26,
     "metadata": {},
     "output_type": "execute_result"
    }
   ],
   "source": [
    "Outliers_OF_Area_Population.shape"
   ]
  },
  {
   "cell_type": "code",
   "execution_count": 27,
   "id": "6017967c",
   "metadata": {},
   "outputs": [
    {
     "data": {
      "text/plain": [
       "[228,\n",
       " 314,\n",
       " 353,\n",
       " 643,\n",
       " 1234,\n",
       " 1361,\n",
       " 1530,\n",
       " 1595,\n",
       " 1965,\n",
       " 2108,\n",
       " 2173,\n",
       " 2380,\n",
       " 2392,\n",
       " 2422,\n",
       " 2534,\n",
       " 2603,\n",
       " 2829,\n",
       " 2839,\n",
       " 3120,\n",
       " 3134,\n",
       " 3387,\n",
       " 3442,\n",
       " 3540,\n",
       " 3991,\n",
       " 4182,\n",
       " 4290,\n",
       " 4491,\n",
       " 4684,\n",
       " 4716,\n",
       " 4803]"
      ]
     },
     "execution_count": 27,
     "metadata": {},
     "output_type": "execute_result"
    }
   ],
   "source": [
    "listindex1=list()\n",
    "for i in Outliers_OF_Area_Population.index:\n",
    "    listindex1.append(i)\n",
    "listindex1"
   ]
  },
  {
   "cell_type": "code",
   "execution_count": 28,
   "id": "c540ccc0",
   "metadata": {},
   "outputs": [
    {
     "data": {
      "text/plain": [
       "(4965, 7)"
      ]
     },
     "execution_count": 28,
     "metadata": {},
     "output_type": "execute_result"
    }
   ],
   "source": [
    "data.shape"
   ]
  },
  {
   "cell_type": "code",
   "execution_count": 29,
   "id": "4721f210",
   "metadata": {},
   "outputs": [
    {
     "data": {
      "text/plain": [
       "(4935, 7)"
      ]
     },
     "execution_count": 29,
     "metadata": {},
     "output_type": "execute_result"
    }
   ],
   "source": [
    "data=data.drop(listindex1)\n",
    "data.shape"
   ]
  },
  {
   "cell_type": "markdown",
   "id": "91717a92",
   "metadata": {},
   "source": [
    "#### Now again Display data on boxplot"
   ]
  },
  {
   "cell_type": "code",
   "execution_count": 30,
   "id": "27b28938",
   "metadata": {},
   "outputs": [
    {
     "data": {
      "image/png": "[encoded data removed]",
      "text/plain": [
       "<Figure size 1000x400 with 1 Axes>"
      ]
     },
     "metadata": {},
     "output_type": "display_data"
    }
   ],
   "source": [
    "plt.figure(figsize=(10,4))\n",
    "sns.boxplot(x=data['Area Population'],data=data,color=\"lightgreen\", saturation=0.5)\n",
    "plt.title(\"Outlier in Area Population\")\n",
    "plt.show()"
   ]
  },
  {
   "cell_type": "markdown",
   "id": "4939bde4",
   "metadata": {},
   "source": [
    "### Now from the Area Population  Graph we can see that we can successfully remove the outliers"
   ]
  },
  {
   "cell_type": "markdown",
   "id": "336022c2",
   "metadata": {},
   "source": [
    "### Avg. Area Number of Bedrooms Feature"
   ]
  },
  {
   "cell_type": "code",
   "execution_count": 31,
   "id": "d931a409",
   "metadata": {},
   "outputs": [
    {
     "data": {
      "text/html": [
       "<div>\n",
       "<style scoped>\n",
       "    .dataframe tbody tr th:only-of-type {\n",
       "        vertical-align: middle;\n",
       "    }\n",
       "\n",
       "    .dataframe tbody tr th {\n",
       "        vertical-align: top;\n",
       "    }\n",
       "\n",
       "    .dataframe thead th {\n",
       "        text-align: right;\n",
       "    }\n",
       "</style>\n",
       "<table border=\"1\" class=\"dataframe\">\n",
       "  <thead>\n",
       "    <tr style=\"text-align: right;\">\n",
       "      <th></th>\n",
       "      <th>Avg. Area Income</th>\n",
       "      <th>Avg. Area House Age</th>\n",
       "      <th>Avg. Area Number of Rooms</th>\n",
       "      <th>Avg. Area Number of Bedrooms</th>\n",
       "      <th>Area Population</th>\n",
       "      <th>Price</th>\n",
       "      <th>Address</th>\n",
       "    </tr>\n",
       "  </thead>\n",
       "  <tbody>\n",
       "    <tr>\n",
       "      <th>0</th>\n",
       "      <td>79545.45857</td>\n",
       "      <td>5.682861</td>\n",
       "      <td>7.009188</td>\n",
       "      <td>4.09</td>\n",
       "      <td>23086.8005</td>\n",
       "      <td>1059033.558</td>\n",
       "      <td>208 Michael Ferry Apt. 674\\nLaurabury, NE 3701...</td>\n",
       "    </tr>\n",
       "  </tbody>\n",
       "</table>\n",
       "</div>"
      ],
      "text/plain": [
       "   Avg. Area Income  Avg. Area House Age  Avg. Area Number of Rooms  \\\n",
       "0       79545.45857             5.682861                   7.009188   \n",
       "\n",
       "   Avg. Area Number of Bedrooms  Area Population        Price  \\\n",
       "0                          4.09       23086.8005  1059033.558   \n",
       "\n",
       "                                             Address  \n",
       "0  208 Michael Ferry Apt. 674\\nLaurabury, NE 3701...  "
      ]
     },
     "execution_count": 31,
     "metadata": {},
     "output_type": "execute_result"
    }
   ],
   "source": [
    "data.head(1)"
   ]
  },
  {
   "cell_type": "code",
   "execution_count": 32,
   "id": "f770b0db",
   "metadata": {},
   "outputs": [
    {
     "name": "stdout",
     "output_type": "stream",
     "text": [
      "Q1 : 6.298437073\n",
      "Q3 : 7.664666842\n",
      "IQR : 1.3662297690000003\n",
      "lower_bound : 4.249092419499999\n",
      "upper_bound : 9.7140114955\n"
     ]
    }
   ],
   "source": [
    "Q1 = data[\"Avg. Area Number of Rooms\"].quantile(0.25)\n",
    "Q3 = data[\"Avg. Area Number of Rooms\"].quantile(0.75)\n",
    "IQR = Q3 - Q1\n",
    "lower_bound = Q1 - 1.5 * IQR\n",
    "upper_bound = Q3 + 1.5 * IQR\n",
    "\n",
    "print(\"Q1 :\",Q1)\n",
    "print(\"Q3 :\",Q3)\n",
    "print(\"IQR :\",IQR)\n",
    "print(\"lower_bound :\",lower_bound)\n",
    "print(\"upper_bound :\",upper_bound)"
   ]
  },
  {
   "cell_type": "code",
   "execution_count": 33,
   "id": "bfbea061",
   "metadata": {},
   "outputs": [],
   "source": [
    "Outliers_OF_Avg_Area_Number_of_Rooms = data[\"Avg. Area Number of Rooms\"].loc[(data[\"Avg. Area Number of Rooms\"] < lower_bound) | (data[\"Avg. Area Number of Rooms\"] > upper_bound)]\n",
    "Outliers_OF_Avg_Area_Number_of_Rooms=pd.DataFrame(Outliers_OF_Avg_Area_Number_of_Rooms)\n"
   ]
  },
  {
   "cell_type": "code",
   "execution_count": 34,
   "id": "4a219196",
   "metadata": {},
   "outputs": [
    {
     "data": {
      "text/plain": [
       "(22, 1)"
      ]
     },
     "execution_count": 34,
     "metadata": {},
     "output_type": "execute_result"
    }
   ],
   "source": [
    "Outliers_OF_Avg_Area_Number_of_Rooms.shape"
   ]
  },
  {
   "cell_type": "code",
   "execution_count": 35,
   "id": "115ab3bb",
   "metadata": {},
   "outputs": [],
   "source": [
    "listindex2=list()\n",
    "for i in Outliers_OF_Avg_Area_Number_of_Rooms.index:\n",
    "    listindex2.append(i)"
   ]
  },
  {
   "cell_type": "code",
   "execution_count": 36,
   "id": "23a803f3",
   "metadata": {},
   "outputs": [
    {
     "data": {
      "text/plain": [
       "(4935, 7)"
      ]
     },
     "execution_count": 36,
     "metadata": {},
     "output_type": "execute_result"
    }
   ],
   "source": [
    "data.shape"
   ]
  },
  {
   "cell_type": "code",
   "execution_count": 37,
   "id": "f9618aaa",
   "metadata": {},
   "outputs": [
    {
     "data": {
      "text/plain": [
       "(4913, 7)"
      ]
     },
     "execution_count": 37,
     "metadata": {},
     "output_type": "execute_result"
    }
   ],
   "source": [
    "data=data.drop(listindex2)\n",
    "data.shape"
   ]
  },
  {
   "cell_type": "code",
   "execution_count": 38,
   "id": "ac6c1c8d",
   "metadata": {},
   "outputs": [
    {
     "data": {
      "image/png": "[encoded data removed]",
      "text/plain": [
       "<Figure size 1000x400 with 1 Axes>"
      ]
     },
     "metadata": {},
     "output_type": "display_data"
    }
   ],
   "source": [
    "plt.figure(figsize=(10,4))\n",
    "sns.boxplot(x=data['Avg. Area Number of Rooms'],data=data,color=\"darkorange\", saturation=0.5)\n",
    "plt.title(\"Outlier in Avg. Area Number of Rooms\")\n",
    "plt.show()"
   ]
  },
  {
   "cell_type": "markdown",
   "id": "e7e0b158",
   "metadata": {},
   "source": [
    "### Avg. Area Number of Bedrooms Feature"
   ]
  },
  {
   "cell_type": "code",
   "execution_count": 39,
   "id": "f490ce5d",
   "metadata": {},
   "outputs": [
    {
     "name": "stdout",
     "output_type": "stream",
     "text": [
      "Q1 : 5.327629541\n",
      "Q3 : 6.642756994\n",
      "IQR : 1.3151274529999997\n",
      "lower_bound : 3.354938361500001\n",
      "upper_bound : 8.615448173499999\n"
     ]
    }
   ],
   "source": [
    "Q1 = data[\"Avg. Area House Age\"].quantile(0.25)\n",
    "Q3 = data[\"Avg. Area House Age\"].quantile(0.75)\n",
    "IQR = Q3 - Q1\n",
    "lower_bound = Q1 - 1.5 * IQR\n",
    "upper_bound = Q3 + 1.5 * IQR\n",
    "\n",
    "print(\"Q1 :\",Q1)\n",
    "print(\"Q3 :\",Q3)\n",
    "print(\"IQR :\",IQR)\n",
    "print(\"lower_bound :\",lower_bound)\n",
    "print(\"upper_bound :\",upper_bound)"
   ]
  },
  {
   "cell_type": "code",
   "execution_count": 40,
   "id": "fd4e8c79",
   "metadata": {},
   "outputs": [],
   "source": [
    "Outliers_OF_Avg_Area_House_Age = data[\"Avg. Area House Age\"].loc[(data[\"Avg. Area House Age\"] < lower_bound) | (data[\"Avg. Area House Age\"] > upper_bound)]\n",
    "Outliers_OF_Avg_Area_House_Age=pd.DataFrame(Outliers_OF_Avg_Area_House_Age)\n"
   ]
  },
  {
   "cell_type": "code",
   "execution_count": 41,
   "id": "f318878d",
   "metadata": {},
   "outputs": [
    {
     "data": {
      "text/plain": [
       "(27, 1)"
      ]
     },
     "execution_count": 41,
     "metadata": {},
     "output_type": "execute_result"
    }
   ],
   "source": [
    "Outliers_OF_Avg_Area_House_Age.shape"
   ]
  },
  {
   "cell_type": "code",
   "execution_count": 42,
   "id": "ea63a546",
   "metadata": {},
   "outputs": [],
   "source": [
    "listindex3=list()\n",
    "for i in Outliers_OF_Avg_Area_House_Age.index:\n",
    "    listindex3.append(i)"
   ]
  },
  {
   "cell_type": "code",
   "execution_count": 43,
   "id": "55a2c3f2",
   "metadata": {},
   "outputs": [
    {
     "data": {
      "text/plain": [
       "(4913, 7)"
      ]
     },
     "execution_count": 43,
     "metadata": {},
     "output_type": "execute_result"
    }
   ],
   "source": [
    "data.shape"
   ]
  },
  {
   "cell_type": "code",
   "execution_count": 44,
   "id": "e8296308",
   "metadata": {},
   "outputs": [
    {
     "data": {
      "text/plain": [
       "(4886, 7)"
      ]
     },
     "execution_count": 44,
     "metadata": {},
     "output_type": "execute_result"
    }
   ],
   "source": [
    "data=data.drop(listindex3)\n",
    "data.shape"
   ]
  },
  {
   "cell_type": "code",
   "execution_count": 45,
   "id": "c91aa5ec",
   "metadata": {},
   "outputs": [
    {
     "data": {
      "image/png": "[encoded data removed]",
      "text/plain": [
       "<Figure size 1000x400 with 1 Axes>"
      ]
     },
     "metadata": {},
     "output_type": "display_data"
    }
   ],
   "source": [
    "plt.figure(figsize=(10,4))\n",
    "sns.boxplot(x=data['Avg. Area House Age'],data=data,color=\"darkorange\")\n",
    "plt.title(\"Outlier in Avg. Area House Age\")\n",
    "plt.show()"
   ]
  },
  {
   "cell_type": "markdown",
   "id": "8cffa246",
   "metadata": {},
   "source": [
    "### Avg. Area Income Feature"
   ]
  },
  {
   "cell_type": "code",
   "execution_count": 46,
   "id": "d1bbffb8",
   "metadata": {},
   "outputs": [
    {
     "data": {
      "text/html": [
       "<div>\n",
       "<style scoped>\n",
       "    .dataframe tbody tr th:only-of-type {\n",
       "        vertical-align: middle;\n",
       "    }\n",
       "\n",
       "    .dataframe tbody tr th {\n",
       "        vertical-align: top;\n",
       "    }\n",
       "\n",
       "    .dataframe thead th {\n",
       "        text-align: right;\n",
       "    }\n",
       "</style>\n",
       "<table border=\"1\" class=\"dataframe\">\n",
       "  <thead>\n",
       "    <tr style=\"text-align: right;\">\n",
       "      <th></th>\n",
       "      <th>Avg. Area Income</th>\n",
       "      <th>Avg. Area House Age</th>\n",
       "      <th>Avg. Area Number of Rooms</th>\n",
       "      <th>Avg. Area Number of Bedrooms</th>\n",
       "      <th>Area Population</th>\n",
       "      <th>Price</th>\n",
       "      <th>Address</th>\n",
       "    </tr>\n",
       "  </thead>\n",
       "  <tbody>\n",
       "    <tr>\n",
       "      <th>0</th>\n",
       "      <td>79545.45857</td>\n",
       "      <td>5.682861</td>\n",
       "      <td>7.009188</td>\n",
       "      <td>4.09</td>\n",
       "      <td>23086.80050</td>\n",
       "      <td>1.059034e+06</td>\n",
       "      <td>208 Michael Ferry Apt. 674\\nLaurabury, NE 3701...</td>\n",
       "    </tr>\n",
       "    <tr>\n",
       "      <th>1</th>\n",
       "      <td>79248.64245</td>\n",
       "      <td>6.002900</td>\n",
       "      <td>6.730821</td>\n",
       "      <td>3.09</td>\n",
       "      <td>40173.07217</td>\n",
       "      <td>1.505891e+06</td>\n",
       "      <td>188 Johnson Views Suite 079\\nLake Kathleen, CA...</td>\n",
       "    </tr>\n",
       "    <tr>\n",
       "      <th>2</th>\n",
       "      <td>61287.06718</td>\n",
       "      <td>5.865890</td>\n",
       "      <td>8.512727</td>\n",
       "      <td>5.13</td>\n",
       "      <td>36882.15940</td>\n",
       "      <td>1.058988e+06</td>\n",
       "      <td>9127 Elizabeth Stravenue\\nDanieltown, WI 06482...</td>\n",
       "    </tr>\n",
       "    <tr>\n",
       "      <th>3</th>\n",
       "      <td>63345.24005</td>\n",
       "      <td>7.188236</td>\n",
       "      <td>5.586729</td>\n",
       "      <td>3.26</td>\n",
       "      <td>34310.24283</td>\n",
       "      <td>1.260617e+06</td>\n",
       "      <td>USS Barnett\\nFPO AP 44820</td>\n",
       "    </tr>\n",
       "    <tr>\n",
       "      <th>4</th>\n",
       "      <td>59982.19723</td>\n",
       "      <td>5.040555</td>\n",
       "      <td>7.839388</td>\n",
       "      <td>4.23</td>\n",
       "      <td>26354.10947</td>\n",
       "      <td>6.309435e+05</td>\n",
       "      <td>USNS Raymond\\nFPO AE 09386</td>\n",
       "    </tr>\n",
       "  </tbody>\n",
       "</table>\n",
       "</div>"
      ],
      "text/plain": [
       "   Avg. Area Income  Avg. Area House Age  Avg. Area Number of Rooms  \\\n",
       "0       79545.45857             5.682861                   7.009188   \n",
       "1       79248.64245             6.002900                   6.730821   \n",
       "2       61287.06718             5.865890                   8.512727   \n",
       "3       63345.24005             7.188236                   5.586729   \n",
       "4       59982.19723             5.040555                   7.839388   \n",
       "\n",
       "   Avg. Area Number of Bedrooms  Area Population         Price  \\\n",
       "0                          4.09      23086.80050  1.059034e+06   \n",
       "1                          3.09      40173.07217  1.505891e+06   \n",
       "2                          5.13      36882.15940  1.058988e+06   \n",
       "3                          3.26      34310.24283  1.260617e+06   \n",
       "4                          4.23      26354.10947  6.309435e+05   \n",
       "\n",
       "                                             Address  \n",
       "0  208 Michael Ferry Apt. 674\\nLaurabury, NE 3701...  \n",
       "1  188 Johnson Views Suite 079\\nLake Kathleen, CA...  \n",
       "2  9127 Elizabeth Stravenue\\nDanieltown, WI 06482...  \n",
       "3                          USS Barnett\\nFPO AP 44820  \n",
       "4                         USNS Raymond\\nFPO AE 09386  "
      ]
     },
     "execution_count": 46,
     "metadata": {},
     "output_type": "execute_result"
    }
   ],
   "source": [
    "data.head()"
   ]
  },
  {
   "cell_type": "code",
   "execution_count": 47,
   "id": "cb9910e9",
   "metadata": {},
   "outputs": [
    {
     "name": "stdout",
     "output_type": "stream",
     "text": [
      "Q1 : 61503.3466075\n",
      "Q3 : 75729.49880999999\n",
      "IQR : 14226.152202499987\n",
      "lower_bound : 40164.11830375002\n",
      "upper_bound : 97068.72711374998\n"
     ]
    }
   ],
   "source": [
    "Q1 = data[\"Avg. Area Income\"].quantile(0.25)\n",
    "Q3 = data[\"Avg. Area Income\"].quantile(0.75)\n",
    "IQR = Q3 - Q1\n",
    "lower_bound = Q1 - 1.5 * IQR\n",
    "upper_bound = Q3 + 1.5 * IQR\n",
    "\n",
    "print(\"Q1 :\",Q1)\n",
    "print(\"Q3 :\",Q3)\n",
    "print(\"IQR :\",IQR)\n",
    "print(\"lower_bound :\",lower_bound)\n",
    "print(\"upper_bound :\",upper_bound)"
   ]
  },
  {
   "cell_type": "code",
   "execution_count": 48,
   "id": "eefdb640",
   "metadata": {},
   "outputs": [],
   "source": [
    "Outliers_OF_Avg_Area_Income = data[\"Avg. Area Income\"].loc[(data[\"Avg. Area Income\"] < lower_bound) | (data[\"Avg. Area Income\"] > upper_bound)]\n",
    "Outliers_OF_Avg_Area_Income=pd.DataFrame(Outliers_OF_Avg_Area_Income)"
   ]
  },
  {
   "cell_type": "code",
   "execution_count": 49,
   "id": "97f3066f",
   "metadata": {},
   "outputs": [
    {
     "data": {
      "text/plain": [
       "(28, 1)"
      ]
     },
     "execution_count": 49,
     "metadata": {},
     "output_type": "execute_result"
    }
   ],
   "source": [
    "Outliers_OF_Avg_Area_Income.shape"
   ]
  },
  {
   "cell_type": "code",
   "execution_count": 50,
   "id": "bd24ee3e",
   "metadata": {},
   "outputs": [],
   "source": [
    "listindex4=list()\n",
    "for i in Outliers_OF_Avg_Area_Income.index:\n",
    "    listindex4.append(i)"
   ]
  },
  {
   "cell_type": "code",
   "execution_count": 51,
   "id": "ff9647fe",
   "metadata": {},
   "outputs": [
    {
     "data": {
      "text/plain": [
       "(4886, 7)"
      ]
     },
     "execution_count": 51,
     "metadata": {},
     "output_type": "execute_result"
    }
   ],
   "source": [
    "data.shape"
   ]
  },
  {
   "cell_type": "code",
   "execution_count": 52,
   "id": "b4b51ddf",
   "metadata": {},
   "outputs": [
    {
     "data": {
      "text/plain": [
       "(4858, 7)"
      ]
     },
     "execution_count": 52,
     "metadata": {},
     "output_type": "execute_result"
    }
   ],
   "source": [
    "data=data.drop(listindex4)\n",
    "data.shape"
   ]
  },
  {
   "cell_type": "code",
   "execution_count": 53,
   "id": "7fd32df2",
   "metadata": {},
   "outputs": [
    {
     "data": {
      "image/png": "[encoded data removed]",
      "text/plain": [
       "<Figure size 1000x400 with 1 Axes>"
      ]
     },
     "metadata": {},
     "output_type": "display_data"
    }
   ],
   "source": [
    "plt.figure(figsize=(10,4))\n",
    "sns.boxplot(x=data['Avg. Area Income'],data=data)\n",
    "plt.title(\"Outlier in Avg. Area Income\")\n",
    "plt.show()"
   ]
  },
  {
   "cell_type": "markdown",
   "id": "fee64bdd",
   "metadata": {},
   "source": [
    "Now Data Are almost free from Outlier But there is some columns which create problem for us that is why we need to remove that column"
   ]
  },
  {
   "cell_type": "markdown",
   "id": "f6323550",
   "metadata": {},
   "source": [
    "# After Refining our data Are Look Like Below"
   ]
  },
  {
   "cell_type": "code",
   "execution_count": 56,
   "id": "06f3129e",
   "metadata": {},
   "outputs": [
    {
     "data": {
      "text/html": [
       "<div>\n",
       "<style scoped>\n",
       "    .dataframe tbody tr th:only-of-type {\n",
       "        vertical-align: middle;\n",
       "    }\n",
       "\n",
       "    .dataframe tbody tr th {\n",
       "        vertical-align: top;\n",
       "    }\n",
       "\n",
       "    .dataframe thead th {\n",
       "        text-align: right;\n",
       "    }\n",
       "</style>\n",
       "<table border=\"1\" class=\"dataframe\">\n",
       "  <thead>\n",
       "    <tr style=\"text-align: right;\">\n",
       "      <th></th>\n",
       "      <th>Avg. Area Income</th>\n",
       "      <th>Avg. Area House Age</th>\n",
       "      <th>Avg. Area Number of Rooms</th>\n",
       "      <th>Avg. Area Number of Bedrooms</th>\n",
       "      <th>Area Population</th>\n",
       "      <th>Price</th>\n",
       "    </tr>\n",
       "  </thead>\n",
       "  <tbody>\n",
       "    <tr>\n",
       "      <th>0</th>\n",
       "      <td>79545.45857</td>\n",
       "      <td>5.682861</td>\n",
       "      <td>7.009188</td>\n",
       "      <td>4.09</td>\n",
       "      <td>23086.80050</td>\n",
       "      <td>1.059034e+06</td>\n",
       "    </tr>\n",
       "    <tr>\n",
       "      <th>1</th>\n",
       "      <td>79248.64245</td>\n",
       "      <td>6.002900</td>\n",
       "      <td>6.730821</td>\n",
       "      <td>3.09</td>\n",
       "      <td>40173.07217</td>\n",
       "      <td>1.505891e+06</td>\n",
       "    </tr>\n",
       "    <tr>\n",
       "      <th>2</th>\n",
       "      <td>61287.06718</td>\n",
       "      <td>5.865890</td>\n",
       "      <td>8.512727</td>\n",
       "      <td>5.13</td>\n",
       "      <td>36882.15940</td>\n",
       "      <td>1.058988e+06</td>\n",
       "    </tr>\n",
       "    <tr>\n",
       "      <th>3</th>\n",
       "      <td>63345.24005</td>\n",
       "      <td>7.188236</td>\n",
       "      <td>5.586729</td>\n",
       "      <td>3.26</td>\n",
       "      <td>34310.24283</td>\n",
       "      <td>1.260617e+06</td>\n",
       "    </tr>\n",
       "    <tr>\n",
       "      <th>4</th>\n",
       "      <td>59982.19723</td>\n",
       "      <td>5.040555</td>\n",
       "      <td>7.839388</td>\n",
       "      <td>4.23</td>\n",
       "      <td>26354.10947</td>\n",
       "      <td>6.309435e+05</td>\n",
       "    </tr>\n",
       "    <tr>\n",
       "      <th>...</th>\n",
       "      <td>...</td>\n",
       "      <td>...</td>\n",
       "      <td>...</td>\n",
       "      <td>...</td>\n",
       "      <td>...</td>\n",
       "      <td>...</td>\n",
       "    </tr>\n",
       "    <tr>\n",
       "      <th>4995</th>\n",
       "      <td>60567.94414</td>\n",
       "      <td>7.830362</td>\n",
       "      <td>6.137356</td>\n",
       "      <td>3.46</td>\n",
       "      <td>22837.36103</td>\n",
       "      <td>1.060194e+06</td>\n",
       "    </tr>\n",
       "    <tr>\n",
       "      <th>4996</th>\n",
       "      <td>78491.27543</td>\n",
       "      <td>6.999135</td>\n",
       "      <td>6.576763</td>\n",
       "      <td>4.02</td>\n",
       "      <td>25616.11549</td>\n",
       "      <td>1.482618e+06</td>\n",
       "    </tr>\n",
       "    <tr>\n",
       "      <th>4997</th>\n",
       "      <td>63390.68689</td>\n",
       "      <td>7.250591</td>\n",
       "      <td>4.805081</td>\n",
       "      <td>2.13</td>\n",
       "      <td>33266.14549</td>\n",
       "      <td>1.030730e+06</td>\n",
       "    </tr>\n",
       "    <tr>\n",
       "      <th>4998</th>\n",
       "      <td>68001.33124</td>\n",
       "      <td>5.534388</td>\n",
       "      <td>7.130144</td>\n",
       "      <td>5.44</td>\n",
       "      <td>42625.62016</td>\n",
       "      <td>1.198657e+06</td>\n",
       "    </tr>\n",
       "    <tr>\n",
       "      <th>4999</th>\n",
       "      <td>65510.58180</td>\n",
       "      <td>5.992305</td>\n",
       "      <td>6.792336</td>\n",
       "      <td>4.07</td>\n",
       "      <td>46501.28380</td>\n",
       "      <td>1.298950e+06</td>\n",
       "    </tr>\n",
       "  </tbody>\n",
       "</table>\n",
       "<p>4858 rows × 6 columns</p>\n",
       "</div>"
      ],
      "text/plain": [
       "      Avg. Area Income  Avg. Area House Age  Avg. Area Number of Rooms  \\\n",
       "0          79545.45857             5.682861                   7.009188   \n",
       "1          79248.64245             6.002900                   6.730821   \n",
       "2          61287.06718             5.865890                   8.512727   \n",
       "3          63345.24005             7.188236                   5.586729   \n",
       "4          59982.19723             5.040555                   7.839388   \n",
       "...                ...                  ...                        ...   \n",
       "4995       60567.94414             7.830362                   6.137356   \n",
       "4996       78491.27543             6.999135                   6.576763   \n",
       "4997       63390.68689             7.250591                   4.805081   \n",
       "4998       68001.33124             5.534388                   7.130144   \n",
       "4999       65510.58180             5.992305                   6.792336   \n",
       "\n",
       "      Avg. Area Number of Bedrooms  Area Population         Price  \n",
       "0                             4.09      23086.80050  1.059034e+06  \n",
       "1                             3.09      40173.07217  1.505891e+06  \n",
       "2                             5.13      36882.15940  1.058988e+06  \n",
       "3                             3.26      34310.24283  1.260617e+06  \n",
       "4                             4.23      26354.10947  6.309435e+05  \n",
       "...                            ...              ...           ...  \n",
       "4995                          3.46      22837.36103  1.060194e+06  \n",
       "4996                          4.02      25616.11549  1.482618e+06  \n",
       "4997                          2.13      33266.14549  1.030730e+06  \n",
       "4998                          5.44      42625.62016  1.198657e+06  \n",
       "4999                          4.07      46501.28380  1.298950e+06  \n",
       "\n",
       "[4858 rows x 6 columns]"
      ]
     },
     "execution_count": 56,
     "metadata": {},
     "output_type": "execute_result"
    }
   ],
   "source": [
    "data=data.drop(columns=[\"Address\"])\n",
    "data"
   ]
  },
  {
   "cell_type": "markdown",
   "id": "199ad1b7",
   "metadata": {},
   "source": [
    "# Finding Corelltion bewtween the columns"
   ]
  },
  {
   "cell_type": "code",
   "execution_count": 57,
   "id": "6bec437b",
   "metadata": {},
   "outputs": [
    {
     "data": {
      "text/html": [
       "<div>\n",
       "<style scoped>\n",
       "    .dataframe tbody tr th:only-of-type {\n",
       "        vertical-align: middle;\n",
       "    }\n",
       "\n",
       "    .dataframe tbody tr th {\n",
       "        vertical-align: top;\n",
       "    }\n",
       "\n",
       "    .dataframe thead th {\n",
       "        text-align: right;\n",
       "    }\n",
       "</style>\n",
       "<table border=\"1\" class=\"dataframe\">\n",
       "  <thead>\n",
       "    <tr style=\"text-align: right;\">\n",
       "      <th></th>\n",
       "      <th>Avg. Area Income</th>\n",
       "      <th>Avg. Area House Age</th>\n",
       "      <th>Avg. Area Number of Rooms</th>\n",
       "      <th>Avg. Area Number of Bedrooms</th>\n",
       "      <th>Area Population</th>\n",
       "      <th>Price</th>\n",
       "    </tr>\n",
       "  </thead>\n",
       "  <tbody>\n",
       "    <tr>\n",
       "      <th>Avg. Area Income</th>\n",
       "      <td>1.000000</td>\n",
       "      <td>-0.021607</td>\n",
       "      <td>-0.020765</td>\n",
       "      <td>0.015042</td>\n",
       "      <td>-0.015111</td>\n",
       "      <td>0.631027</td>\n",
       "    </tr>\n",
       "    <tr>\n",
       "      <th>Avg. Area House Age</th>\n",
       "      <td>-0.021607</td>\n",
       "      <td>1.000000</td>\n",
       "      <td>-0.017899</td>\n",
       "      <td>0.002378</td>\n",
       "      <td>-0.022923</td>\n",
       "      <td>0.441805</td>\n",
       "    </tr>\n",
       "    <tr>\n",
       "      <th>Avg. Area Number of Rooms</th>\n",
       "      <td>-0.020765</td>\n",
       "      <td>-0.017899</td>\n",
       "      <td>1.000000</td>\n",
       "      <td>0.467351</td>\n",
       "      <td>-0.000218</td>\n",
       "      <td>0.330029</td>\n",
       "    </tr>\n",
       "    <tr>\n",
       "      <th>Avg. Area Number of Bedrooms</th>\n",
       "      <td>0.015042</td>\n",
       "      <td>0.002378</td>\n",
       "      <td>0.467351</td>\n",
       "      <td>1.000000</td>\n",
       "      <td>-0.022800</td>\n",
       "      <td>0.171246</td>\n",
       "    </tr>\n",
       "    <tr>\n",
       "      <th>Area Population</th>\n",
       "      <td>-0.015111</td>\n",
       "      <td>-0.022923</td>\n",
       "      <td>-0.000218</td>\n",
       "      <td>-0.022800</td>\n",
       "      <td>1.000000</td>\n",
       "      <td>0.406078</td>\n",
       "    </tr>\n",
       "    <tr>\n",
       "      <th>Price</th>\n",
       "      <td>0.631027</td>\n",
       "      <td>0.441805</td>\n",
       "      <td>0.330029</td>\n",
       "      <td>0.171246</td>\n",
       "      <td>0.406078</td>\n",
       "      <td>1.000000</td>\n",
       "    </tr>\n",
       "  </tbody>\n",
       "</table>\n",
       "</div>"
      ],
      "text/plain": [
       "                              Avg. Area Income  Avg. Area House Age  \\\n",
       "Avg. Area Income                      1.000000            -0.021607   \n",
       "Avg. Area House Age                  -0.021607             1.000000   \n",
       "Avg. Area Number of Rooms            -0.020765            -0.017899   \n",
       "Avg. Area Number of Bedrooms          0.015042             0.002378   \n",
       "Area Population                      -0.015111            -0.022923   \n",
       "Price                                 0.631027             0.441805   \n",
       "\n",
       "                              Avg. Area Number of Rooms  \\\n",
       "Avg. Area Income                              -0.020765   \n",
       "Avg. Area House Age                           -0.017899   \n",
       "Avg. Area Number of Rooms                      1.000000   \n",
       "Avg. Area Number of Bedrooms                   0.467351   \n",
       "Area Population                               -0.000218   \n",
       "Price                                          0.330029   \n",
       "\n",
       "                              Avg. Area Number of Bedrooms  Area Population  \\\n",
       "Avg. Area Income                                  0.015042        -0.015111   \n",
       "Avg. Area House Age                               0.002378        -0.022923   \n",
       "Avg. Area Number of Rooms                         0.467351        -0.000218   \n",
       "Avg. Area Number of Bedrooms                      1.000000        -0.022800   \n",
       "Area Population                                  -0.022800         1.000000   \n",
       "Price                                             0.171246         0.406078   \n",
       "\n",
       "                                 Price  \n",
       "Avg. Area Income              0.631027  \n",
       "Avg. Area House Age           0.441805  \n",
       "Avg. Area Number of Rooms     0.330029  \n",
       "Avg. Area Number of Bedrooms  0.171246  \n",
       "Area Population               0.406078  \n",
       "Price                         1.000000  "
      ]
     },
     "execution_count": 57,
     "metadata": {},
     "output_type": "execute_result"
    }
   ],
   "source": [
    "correlation = data.corr()\n",
    "correlation"
   ]
  },
  {
   "cell_type": "code",
   "execution_count": null,
   "id": "4363c24a",
   "metadata": {},
   "outputs": [],
   "source": [
    "plt.figure(figsize=(10,6))\n",
    "plt.title(\" Show the correlation on DataSet\")\n",
    "sns.heatmap(correlation, cbar=True, square=True, fmt='.1f', annot=True, annot_kws={'size':8}, cmap='Blues')\n",
    "plt.show()"
   ]
  },
  {
   "cell_type": "markdown",
   "id": "3e1892dc",
   "metadata": {},
   "source": [
    "# Now Defening the input and Output columns or defining the target column"
   ]
  },
  {
   "cell_type": "code",
   "execution_count": 58,
   "id": "7167c095",
   "metadata": {},
   "outputs": [],
   "source": [
    "x=data.drop(columns=['Price']) #this data we will be used as input to the Model"
   ]
  },
  {
   "cell_type": "code",
   "execution_count": 59,
   "id": "7174be94",
   "metadata": {},
   "outputs": [
    {
     "data": {
      "text/html": [
       "<div>\n",
       "<style scoped>\n",
       "    .dataframe tbody tr th:only-of-type {\n",
       "        vertical-align: middle;\n",
       "    }\n",
       "\n",
       "    .dataframe tbody tr th {\n",
       "        vertical-align: top;\n",
       "    }\n",
       "\n",
       "    .dataframe thead th {\n",
       "        text-align: right;\n",
       "    }\n",
       "</style>\n",
       "<table border=\"1\" class=\"dataframe\">\n",
       "  <thead>\n",
       "    <tr style=\"text-align: right;\">\n",
       "      <th></th>\n",
       "      <th>Price</th>\n",
       "    </tr>\n",
       "  </thead>\n",
       "  <tbody>\n",
       "    <tr>\n",
       "      <th>0</th>\n",
       "      <td>1.059034e+06</td>\n",
       "    </tr>\n",
       "    <tr>\n",
       "      <th>1</th>\n",
       "      <td>1.505891e+06</td>\n",
       "    </tr>\n",
       "    <tr>\n",
       "      <th>2</th>\n",
       "      <td>1.058988e+06</td>\n",
       "    </tr>\n",
       "    <tr>\n",
       "      <th>3</th>\n",
       "      <td>1.260617e+06</td>\n",
       "    </tr>\n",
       "    <tr>\n",
       "      <th>4</th>\n",
       "      <td>6.309435e+05</td>\n",
       "    </tr>\n",
       "    <tr>\n",
       "      <th>...</th>\n",
       "      <td>...</td>\n",
       "    </tr>\n",
       "    <tr>\n",
       "      <th>4995</th>\n",
       "      <td>1.060194e+06</td>\n",
       "    </tr>\n",
       "    <tr>\n",
       "      <th>4996</th>\n",
       "      <td>1.482618e+06</td>\n",
       "    </tr>\n",
       "    <tr>\n",
       "      <th>4997</th>\n",
       "      <td>1.030730e+06</td>\n",
       "    </tr>\n",
       "    <tr>\n",
       "      <th>4998</th>\n",
       "      <td>1.198657e+06</td>\n",
       "    </tr>\n",
       "    <tr>\n",
       "      <th>4999</th>\n",
       "      <td>1.298950e+06</td>\n",
       "    </tr>\n",
       "  </tbody>\n",
       "</table>\n",
       "<p>4858 rows × 1 columns</p>\n",
       "</div>"
      ],
      "text/plain": [
       "             Price\n",
       "0     1.059034e+06\n",
       "1     1.505891e+06\n",
       "2     1.058988e+06\n",
       "3     1.260617e+06\n",
       "4     6.309435e+05\n",
       "...            ...\n",
       "4995  1.060194e+06\n",
       "4996  1.482618e+06\n",
       "4997  1.030730e+06\n",
       "4998  1.198657e+06\n",
       "4999  1.298950e+06\n",
       "\n",
       "[4858 rows x 1 columns]"
      ]
     },
     "execution_count": 59,
     "metadata": {},
     "output_type": "execute_result"
    }
   ],
   "source": [
    "y=data['Price']\n",
    "y=pd.DataFrame(y)\n",
    "y"
   ]
  },
  {
   "cell_type": "markdown",
   "id": "9c5acad2",
   "metadata": {},
   "source": [
    "<h1><center>Spliting DataSet Into diffrent Sets</center></h1>\n",
    "<img src=\"TrainTestRepeat.png\" alt=\"alternative_text\">"
   ]
  },
  {
   "cell_type": "markdown",
   "id": "3b3eff19",
   "metadata": {},
   "source": [
    "# Importing libries for The Data spliting "
   ]
  },
  {
   "cell_type": "code",
   "execution_count": 60,
   "id": "3a74ec8d",
   "metadata": {},
   "outputs": [],
   "source": [
    "from sklearn.model_selection import train_test_split\n",
    "x_train,x_test,y_train,y_test=train_test_split(x,y,test_size=.2,random_state=101)"
   ]
  },
  {
   "cell_type": "code",
   "execution_count": null,
   "id": "88dff6bf",
   "metadata": {},
   "outputs": [],
   "source": []
  },
  {
   "cell_type": "markdown",
   "id": "bf7a68f5",
   "metadata": {},
   "source": [
    "# importing the Model "
   ]
  },
  {
   "cell_type": "code",
   "execution_count": 64,
   "id": "50f7a7ae",
   "metadata": {},
   "outputs": [],
   "source": [
    "from xgboost import XGBRegressor\n",
    "from sklearn import metrics"
   ]
  },
  {
   "cell_type": "markdown",
   "id": "aa051db3",
   "metadata": {},
   "source": [
    "# Now Feed data to Model "
   ]
  },
  {
   "cell_type": "code",
   "execution_count": 65,
   "id": "8aa453c4",
   "metadata": {},
   "outputs": [],
   "source": [
    "Model=XGBRegressor()"
   ]
  },
  {
   "cell_type": "code",
   "execution_count": 66,
   "id": "792154d2",
   "metadata": {},
   "outputs": [
    {
     "data": {
      "text/html": [
       "<style>#sk-container-id-1 {color: black;}#sk-container-id-1 pre{padding: 0;}#sk-container-id-1 div.sk-toggleable {background-color: white;}#sk-container-id-1 label.sk-toggleable__label {cursor: pointer;display: block;width: 100%;margin-bottom: 0;padding: 0.3em;box-sizing: border-box;text-align: center;}#sk-container-id-1 label.sk-toggleable__label-arrow:before {content: \"▸\";float: left;margin-right: 0.25em;color: #696969;}#sk-container-id-1 label.sk-toggleable__label-arrow:hover:before {color: black;}#sk-container-id-1 div.sk-estimator:hover label.sk-toggleable__label-arrow:before {color: black;}#sk-container-id-1 div.sk-toggleable__content {max-height: 0;max-width: 0;overflow: hidden;text-align: left;background-color: #f0f8ff;}#sk-container-id-1 div.sk-toggleable__content pre {margin: 0.2em;color: black;border-radius: 0.25em;background-color: #f0f8ff;}#sk-container-id-1 input.sk-toggleable__control:checked~div.sk-toggleable__content {max-height: 200px;max-width: 100%;overflow: auto;}#sk-container-id-1 input.sk-toggleable__control:checked~label.sk-toggleable__label-arrow:before {content: \"▾\";}#sk-container-id-1 div.sk-estimator input.sk-toggleable__control:checked~label.sk-toggleable__label {background-color: #d4ebff;}#sk-container-id-1 div.sk-label input.sk-toggleable__control:checked~label.sk-toggleable__label {background-color: #d4ebff;}#sk-container-id-1 input.sk-hidden--visually {border: 0;clip: rect(1px 1px 1px 1px);clip: rect(1px, 1px, 1px, 1px);height: 1px;margin: -1px;overflow: hidden;padding: 0;position: absolute;width: 1px;}#sk-container-id-1 div.sk-estimator {font-family: monospace;background-color: #f0f8ff;border: 1px dotted black;border-radius: 0.25em;box-sizing: border-box;margin-bottom: 0.5em;}#sk-container-id-1 div.sk-estimator:hover {background-color: #d4ebff;}#sk-container-id-1 div.sk-parallel-item::after {content: \"\";width: 100%;border-bottom: 1px solid gray;flex-grow: 1;}#sk-container-id-1 div.sk-label:hover label.sk-toggleable__label {background-color: #d4ebff;}#sk-container-id-1 div.sk-serial::before {content: \"\";position: absolute;border-left: 1px solid gray;box-sizing: border-box;top: 0;bottom: 0;left: 50%;z-index: 0;}#sk-container-id-1 div.sk-serial {display: flex;flex-direction: column;align-items: center;background-color: white;padding-right: 0.2em;padding-left: 0.2em;position: relative;}#sk-container-id-1 div.sk-item {position: relative;z-index: 1;}#sk-container-id-1 div.sk-parallel {display: flex;align-items: stretch;justify-content: center;background-color: white;position: relative;}#sk-container-id-1 div.sk-item::before, #sk-container-id-1 div.sk-parallel-item::before {content: \"\";position: absolute;border-left: 1px solid gray;box-sizing: border-box;top: 0;bottom: 0;left: 50%;z-index: -1;}#sk-container-id-1 div.sk-parallel-item {display: flex;flex-direction: column;z-index: 1;position: relative;background-color: white;}#sk-container-id-1 div.sk-parallel-item:first-child::after {align-self: flex-end;width: 50%;}#sk-container-id-1 div.sk-parallel-item:last-child::after {align-self: flex-start;width: 50%;}#sk-container-id-1 div.sk-parallel-item:only-child::after {width: 0;}#sk-container-id-1 div.sk-dashed-wrapped {border: 1px dashed gray;margin: 0 0.4em 0.5em 0.4em;box-sizing: border-box;padding-bottom: 0.4em;background-color: white;}#sk-container-id-1 div.sk-label label {font-family: monospace;font-weight: bold;display: inline-block;line-height: 1.2em;}#sk-container-id-1 div.sk-label-container {text-align: center;}#sk-container-id-1 div.sk-container {/* jupyter's `normalize.less` sets `[hidden] { display: none; }` but bootstrap.min.css set `[hidden] { display: none !important; }` so we also need the `!important` here to be able to override the default hidden behavior on the sphinx rendered scikit-learn.org. See: https://github.com/scikit-learn/scikit-learn/issues/21755 */display: inline-block !important;position: relative;}#sk-container-id-1 div.sk-text-repr-fallback {display: none;}</style><div id=\"sk-container-id-1\" class=\"sk-top-container\"><div class=\"sk-text-repr-fallback\"><pre>XGBRegressor(base_score=None, booster=None, callbacks=None,\n",
       "             colsample_bylevel=None, colsample_bynode=None,\n",
       "             colsample_bytree=None, early_stopping_rounds=None,\n",
       "             enable_categorical=False, eval_metric=None, feature_types=None,\n",
       "             gamma=None, gpu_id=None, grow_policy=None, importance_type=None,\n",
       "             interaction_constraints=None, learning_rate=None, max_bin=None,\n",
       "             max_cat_threshold=None, max_cat_to_onehot=None,\n",
       "             max_delta_step=None, max_depth=None, max_leaves=None,\n",
       "             min_child_weight=None, missing=nan, monotone_constraints=None,\n",
       "             n_estimators=100, n_jobs=None, num_parallel_tree=None,\n",
       "             predictor=None, random_state=None, ...)</pre><b>In a Jupyter environment, please rerun this cell to show the HTML representation or trust the notebook. <br />On GitHub, the HTML representation is unable to render, please try loading this page with nbviewer.org.</b></div><div class=\"sk-container\" hidden><div class=\"sk-item\"><div class=\"sk-estimator sk-toggleable\"><input class=\"sk-toggleable__control sk-hidden--visually\" id=\"sk-estimator-id-1\" type=\"checkbox\" checked><label for=\"sk-estimator-id-1\" class=\"sk-toggleable__label sk-toggleable__label-arrow\">XGBRegressor</label><div class=\"sk-toggleable__content\"><pre>XGBRegressor(base_score=None, booster=None, callbacks=None,\n",
       "             colsample_bylevel=None, colsample_bynode=None,\n",
       "             colsample_bytree=None, early_stopping_rounds=None,\n",
       "             enable_categorical=False, eval_metric=None, feature_types=None,\n",
       "             gamma=None, gpu_id=None, grow_policy=None, importance_type=None,\n",
       "             interaction_constraints=None, learning_rate=None, max_bin=None,\n",
       "             max_cat_threshold=None, max_cat_to_onehot=None,\n",
       "             max_delta_step=None, max_depth=None, max_leaves=None,\n",
       "             min_child_weight=None, missing=nan, monotone_constraints=None,\n",
       "             n_estimators=100, n_jobs=None, num_parallel_tree=None,\n",
       "             predictor=None, random_state=None, ...)</pre></div></div></div></div></div>"
      ],
      "text/plain": [
       "XGBRegressor(base_score=None, booster=None, callbacks=None,\n",
       "             colsample_bylevel=None, colsample_bynode=None,\n",
       "             colsample_bytree=None, early_stopping_rounds=None,\n",
       "             enable_categorical=False, eval_metric=None, feature_types=None,\n",
       "             gamma=None, gpu_id=None, grow_policy=None, importance_type=None,\n",
       "             interaction_constraints=None, learning_rate=None, max_bin=None,\n",
       "             max_cat_threshold=None, max_cat_to_onehot=None,\n",
       "             max_delta_step=None, max_depth=None, max_leaves=None,\n",
       "             min_child_weight=None, missing=nan, monotone_constraints=None,\n",
       "             n_estimators=100, n_jobs=None, num_parallel_tree=None,\n",
       "             predictor=None, random_state=None, ...)"
      ]
     },
     "execution_count": 66,
     "metadata": {},
     "output_type": "execute_result"
    }
   ],
   "source": [
    "Model.fit(x_train,y_train)"
   ]
  },
  {
   "cell_type": "code",
   "execution_count": 67,
   "id": "38a0bf4b",
   "metadata": {},
   "outputs": [
    {
     "data": {
      "text/html": [
       "<div>\n",
       "<style scoped>\n",
       "    .dataframe tbody tr th:only-of-type {\n",
       "        vertical-align: middle;\n",
       "    }\n",
       "\n",
       "    .dataframe tbody tr th {\n",
       "        vertical-align: top;\n",
       "    }\n",
       "\n",
       "    .dataframe thead th {\n",
       "        text-align: right;\n",
       "    }\n",
       "</style>\n",
       "<table border=\"1\" class=\"dataframe\">\n",
       "  <thead>\n",
       "    <tr style=\"text-align: right;\">\n",
       "      <th></th>\n",
       "      <th>Price</th>\n",
       "    </tr>\n",
       "  </thead>\n",
       "  <tbody>\n",
       "    <tr>\n",
       "      <th>4136</th>\n",
       "      <td>1.480442e+06</td>\n",
       "    </tr>\n",
       "    <tr>\n",
       "      <th>3730</th>\n",
       "      <td>6.842571e+05</td>\n",
       "    </tr>\n",
       "    <tr>\n",
       "      <th>2348</th>\n",
       "      <td>1.480228e+06</td>\n",
       "    </tr>\n",
       "    <tr>\n",
       "      <th>3669</th>\n",
       "      <td>1.591794e+06</td>\n",
       "    </tr>\n",
       "    <tr>\n",
       "      <th>3889</th>\n",
       "      <td>1.101341e+06</td>\n",
       "    </tr>\n",
       "    <tr>\n",
       "      <th>...</th>\n",
       "      <td>...</td>\n",
       "    </tr>\n",
       "    <tr>\n",
       "      <th>849</th>\n",
       "      <td>1.234532e+06</td>\n",
       "    </tr>\n",
       "    <tr>\n",
       "      <th>4411</th>\n",
       "      <td>4.374361e+05</td>\n",
       "    </tr>\n",
       "    <tr>\n",
       "      <th>2295</th>\n",
       "      <td>9.116561e+05</td>\n",
       "    </tr>\n",
       "    <tr>\n",
       "      <th>1028</th>\n",
       "      <td>9.615391e+05</td>\n",
       "    </tr>\n",
       "    <tr>\n",
       "      <th>3521</th>\n",
       "      <td>1.771037e+06</td>\n",
       "    </tr>\n",
       "  </tbody>\n",
       "</table>\n",
       "<p>972 rows × 1 columns</p>\n",
       "</div>"
      ],
      "text/plain": [
       "             Price\n",
       "4136  1.480442e+06\n",
       "3730  6.842571e+05\n",
       "2348  1.480228e+06\n",
       "3669  1.591794e+06\n",
       "3889  1.101341e+06\n",
       "...            ...\n",
       "849   1.234532e+06\n",
       "4411  4.374361e+05\n",
       "2295  9.116561e+05\n",
       "1028  9.615391e+05\n",
       "3521  1.771037e+06\n",
       "\n",
       "[972 rows x 1 columns]"
      ]
     },
     "execution_count": 67,
     "metadata": {},
     "output_type": "execute_result"
    }
   ],
   "source": [
    "y_test"
   ]
  },
  {
   "cell_type": "markdown",
   "id": "d95d6175",
   "metadata": {},
   "source": [
    "# Model Perdication on Test data"
   ]
  },
  {
   "cell_type": "code",
   "execution_count": 72,
   "id": "c9f35ec1",
   "metadata": {},
   "outputs": [
    {
     "name": "stdout",
     "output_type": "stream",
     "text": [
      "[1347836.1   740414.3  1583299.5  1359846.1  1174458.   1169013.1\n",
      " 1235098.4  1414339.    872115.25 1749700.1   928454.94 1248669.1\n",
      " 1456547.4  1217298.   1131902.2  1341343.2  1361762.9   983365.06\n",
      "  621295.9  1094482.5   989693.8  1555668.2  1041902.6  1333640.9\n",
      " 1650825.5  1033325.5  1361629.4  1444490.1  1149497.9  1581305.4\n",
      " 1655102.9  1708730.1  1334000.1  1433252.9  1462215.6  1533498.5\n",
      " 1774238.2   763374.2  1056563.4  1506332.1  1732711.   1306947.\n",
      " 1695098.   1149613.   1715648.9  1032947.7   911929.8  1129893.8\n",
      " 1069898.9  1624596.4  1406759.4  1119229.6  1297897.2  1024105.8\n",
      " 1575746.   1141555.6   700034.3  1256455.   1689770.9  1626651.\n",
      " 1233863.6  1099649.    982365.1  1207521.9   933754.7   453288.97\n",
      "  677508.9  1111847.6  1319223.6  1540041.2   662109.1   925535.8\n",
      " 1431293.1  1783075.1  1917489.5  1024333.2  1152551.2   927934.4\n",
      " 1153300.5  1168383.9  1164523.1  1140040.1  1068267.4  1385251.9\n",
      " 1315935.9  1096024.    876718.2   487994.8   940341.56 1707607.4\n",
      " 1528368.2   901817.   1203792.8  1182024.9  1102699.4   942111.1\n",
      " 1092370.6   843022.5  1512016.   1310900.2  1170020.9  1155685.6\n",
      " 1394879.2   638743.94 1097646.8   938108.4  1319094.    871778.5\n",
      "  932998.5   741351.06 1875235.5  1216162.1  1636860.   1141579.2\n",
      "  834694.6  1404004.6   810321.44 1204894.   1416604.6  1067161.6\n",
      " 1255049.8  1313907.4   978522.94 1087489.8   881639.75 1341302.5\n",
      " 1456802.9  1421513.9  1073509.8  1309076.4  1373473.8  1223190.2\n",
      " 1411069.9  1450698.    660711.25 1198132.   1299707.6  1316912.5\n",
      " 1709857.8  1274273.5  1261699.9  1359011.9   845273.6   844529.8\n",
      " 1491571.2   773458.6  1303128.4  1156929.   1270686.8   700038.56\n",
      " 1039628.7  1283718.6  1428374.1   745255.1  1187646.4  1289763.9\n",
      " 1371713.1   939910.44 1405311.6   864855.7  1077707.9  1490764.4\n",
      " 1435917.9   965510.4   881567.06  585446.56  758682.9  1022249.6\n",
      "  565422.6  1311880.5  1435994.2  1239030.8  1300063.9  1976797.1\n",
      " 1089450.4  1391963.8   842695.2  1089678.6  1063449.4  1579292.4\n",
      " 1673172.4  1351944.9   468994.78 1464527.4   662951.94 1404921.8\n",
      " 1233171.4   598528.94 1477325.8   748281.1  1405209.6  1251625.4\n",
      " 1045613.2  1496832.8  1368700.1   900872.06 1695516.5   789035.9\n",
      " 1538967.1  1600564.9  1191091.9  1506945.6  1245826.1   572302.8\n",
      " 1196129.9  1571356.1  1480583.   1491761.5   939686.56  665918.75\n",
      " 1212975.6  1290591.8  1597401.2  1175540.8  1259907.9   882230.4\n",
      " 1384672.2   880463.7  1493392.2  1378283.8  1672200.1  1501217.1\n",
      " 1838668.8  1103158.5  1842762.2  1249131.9   907058.06  763730.7\n",
      " 1169243.8  1562601.2  1590122.9  1093946.    953344.2  1130022.8\n",
      " 1306408.6  1241314.9  1498056.8  1320350.6  1600897.6   923233.3\n",
      " 1559910.6  1089061.6   993203.2  1804251.1  1332315.5   984671.25\n",
      " 1150876.6  1134509.8  1417084.   1076993.1  1419712.5  1208924.4\n",
      " 1279798.1   909029.94 1194459.4  1039869.6  1587800.8  1171736.9\n",
      " 1455474.6  1332970.5  1857594.4  1313473.4   764613.56 1838883.6\n",
      " 1282607.5  1770924.   1175437.8  1455280.2   890294.8  1330558.9\n",
      " 1006028.3  1056370.8   653576.06  647348.5  1790749.9  1524712.6\n",
      "  904916.9  1496969.1  1451479.6  1576370.4  1628258.2  1703278.\n",
      " 1016817.75  805205.5  1434123.5  1814703.9  1105033.2  1745812.\n",
      " 1809212.9  1170735.1  1306770.   1162759.8  1395925.4  1372543.9\n",
      " 1472562.9  1837132.8  1560662.9  1229165.4  1172443.   1579186.6\n",
      " 1022896.8  1422964.5  1079741.1  1428510.6   577378.1  1044256.56\n",
      "  954213.1   907069.06 1545011.5  1340420.9  1082359.4  1810505.1\n",
      " 1194570.9   765408.7  1442728.5   923796.25 1475411.   1169022.5\n",
      "  968146.5   947925.25 1847115.6  1247371.1  1797889.1  1367318.2\n",
      " 1623965.1  1349525.1  1596779.5  1178210.6  1525172.1  1151193.5\n",
      " 1152278.8  1718153.8  1054618.8  1030523.2   727776.1  1724733.1\n",
      " 1463565.1  1092229.1   481490.1  1314625.9  1739552.2  1780035.1\n",
      " 1679149.5  1174338.2  1899272.9  1149762.4  1476669.6  1022249.94\n",
      " 1116986.   1270821.8  1284159.8   941019.   1318097.2  1003175.8\n",
      " 1027614.56  542290.4  1087073.8   585410.25 1703746.1  1117267.6\n",
      " 1681561.1  1539925.1   927360.75  746442.9  1169549.8   675907.44\n",
      "  994485.56 1382870.8  1020055.06 1213780.8   909874.25 1019028.1\n",
      "  988862.1  1225063.5   503353.   1413620.1  1355425.6  1457578.4\n",
      " 1303962.4  1057215.4  1256052.1  1498453.8  1192177.5   967037.7\n",
      "  534217.94 1482947.6   952340.75 1519677.9  1199238.9   911259.1\n",
      " 1031281.2   836736.5  1042316.7   715789.5  1614544.1  1262858.2\n",
      " 1545894.6  1077874.   1624017.1   751376.4  1500041.5   816185.7\n",
      " 1059642.5  1701047.2   878311.94 1288884.6   760944.75 1798321.\n",
      " 1329221.1  1958774.1  1068855.4   902032.44 1317325.5  1183996.5\n",
      " 1453362.6  1825618.8   970358.06 1010114.75 1228394.2  1906838.4\n",
      " 1003218.2  1782945.5  1008192.1  1297619.5  1760333.8  1254149.2\n",
      "  576970.25 1481388.6  1145265.4   901906.2   959522.3  1199656.8\n",
      " 1455891.2  1915684.   1077117.8   796322.56 1364626.9  1126237.\n",
      " 1286078.1  1296645.8   598491.25 1105595.   1027055.1  1092106.2\n",
      " 1060859.6  1243443.4  1103195.2  1410479.8  1454307.9  1192947.9\n",
      " 1248732.9  1337019.8  1285983.8  1089960.   1417192.   1620970.4\n",
      " 1149394.5   719547.75  951575.06 1397058.8  1506146.6  1324488.8\n",
      " 1935499.1   664010.94 1353830.8   872801.44 1320309.   1540387.\n",
      " 1249978.9  1257510.   1300257.4   861802.44 1475205.5  1738364.2\n",
      " 1096852.4   973350.8   548781.3  1154372.2  1253883.8  1332009.6\n",
      " 1240700.4  1701985.1  1496271.2  1005227.25 1028897.75 1109662.1\n",
      " 1026768.5  1205704.2  1304749.9  1669665.2   826600.   1133190.9\n",
      " 1574038.1  1473694.8  1587629.2  1220210.9  1152717.   1451106.5\n",
      " 1533165.1   776011.5  1158332.   1490054.8  1104845.1  1158129.9\n",
      " 1575717.2  1021843.2  1527393.1  1108160.6   430064.88  591839.4\n",
      "  383295.38 1031384.9   740225.5  1306598.1  1395286.1  1102289.6\n",
      " 1311743.9   623999.1  1279081.5  1104841.8  1363892.4  1785601.8\n",
      " 1310784.4  1536497.8  1040870.44 1226827.9  1748239.2  1570690.8\n",
      "  954316.9   536323.75 1365646.5  1463839.8  1212413.   1712172.5\n",
      " 1464326.   1046311.9  1461459.   1194036.   1498389.2   828983.5\n",
      " 1039624.25 1521052.6  1270253.5   766029.44 1357297.8   718923.25\n",
      " 1226827.6   995140.06  776697.8  1356166.8  1872480.1   737682.1\n",
      "  967838.9  1531849.2  1328656.2  1172901.1   946706.25 1146421.5\n",
      " 1017408.2   751783.4  1309524.8   667250.4  1054083.6  1436358.\n",
      "  916650.    781629.56 1088533.2  1696972.2  1848077.1  1109105.5\n",
      "  703033.7  1542732.4  1540863.2  1465319.   1216886.2   942073.5\n",
      "  768048.7  1195015.5  1762480.9  1447659.6  1283901.2  1148458.8\n",
      " 1279731.6  1517805.   1335696.9  1407509.5   904535.06 1691307.6\n",
      "  788458.06 1161814.9   814591.7  1228702.2  1293852.5   807854.2\n",
      " 1213979.4  1354191.   1937774.2  1127559.2  1489098.4  1438213.1\n",
      " 1376266.2  1165395.5   985490.94  902129.2  1467115.9  1136099.8\n",
      " 1405384.8  1286477.   1542914.1  1238706.   1044987.25 1127288.9\n",
      " 1312919.   2090136.5  1597832.2  1418188.   1467773.1  1526295.\n",
      " 1176610.1  1058158.1  1566233.5  1232993.6   981626.1  1222079.\n",
      " 1908070.8   936234.6  1794937.5  1394019.   1590459.5  1115981.6\n",
      " 1141801.4   696884.06 1491402.1  1316489.6   955633.2  1766276.4\n",
      " 1223457.2  1194127.8   656001.4   559200.75 1257493.8  1224906.5\n",
      " 1279676.6   848302.3   856693.1  1579620.5  1103303.1  1154865.\n",
      " 1697307.   1477769.5  1828523.8  1399601.6  1470827.5  1319135.5\n",
      " 1607921.4  1365096.4  1145409.8  1329926.5  1622722.8  1178913.5\n",
      " 1440032.4   653495.6  1009292.2  1144320.5  1022998.   1191890.6\n",
      " 1349294.6   922765.7   648931.25  546864.   1686155.4  1327744.9\n",
      " 1097644.   1469674.6  1189554.2   832170.6   593170.6  1110524.\n",
      "  796815.7  1452588.6  1282831.4  1465291.8  1264228.2  1015489.44\n",
      " 1257062.4  1346744.6  1274425.2  1521311.2  1204790.6   888405.9\n",
      "  887926.4  1173249.4  1151805.6  1365227.8   744602.56 1270139.6\n",
      "  883773.1  1634134.2  1382537.6   941735.2   731332.9  1021080.7\n",
      " 1222674.6  1198545.2  1346958.4  1689262.2   886372.6  1345978.8\n",
      " 1107454.8  1390045.9  1542731.5   682847.2   693218.25  946251.3\n",
      " 1173360.8  1547005.1  1405279.2   797638.8  1155928.8  1984877.9\n",
      " 1216362.4  1352455.5   983712.25  961936.    914974.5  1131211.2\n",
      " 1267332.5  1247550.5   705073.6  1466357.8  1404920.1  1035097.94\n",
      " 1553399.1  1734057.4   850228.1  1073947.4   853576.8   704415.75\n",
      " 1468639.1  1984113.2  1593773.1   969436.   1292022.4  1432858.4\n",
      " 1139546.1   887438.25 1213221.2   288953.3   682687.56  961868.75\n",
      " 1444570.9   873296.2  1034071.4  1380032.1   824700.06  943569.5\n",
      " 1363361.    978680.3  1061162.4  1004656.   1230848.5   956560.56\n",
      " 1218620.6  1462830.8  1178172.6  1216331.5  1373729.5  1497036.6\n",
      " 1740192.1  1080043.2  1117349.5  1227960.6  1019318.    917759.56\n",
      " 1713470.5   574500.25 1109380.6   988235.9  1835768.2  1281500.1\n",
      " 1287663.5   706778.56  719563.44 1256819.9   637771.56  834453.7\n",
      " 1655776.4  1223991.   1378272.6  1065082.8  1208756.   1680478.5\n",
      " 1381227.4  1332620.5  1299995.4   875169.5  1055127.5  1349791.1\n",
      " 1046199.9  1374671.1  1244709.5   837000.9  2004726.8  1157701.4\n",
      " 1374572.8  1592029.4   793944.25 1817616.2   767624.9   773447.75\n",
      " 1935156.1   731420.3  1253502.8  1588529.6  1660494.8   717443.6\n",
      " 1373316.9   752486.25 1645775.8   907155.25 1067706.9   987031.25\n",
      " 1686878.    824920.94 1134315.2   865363.1  1085545.9  1928550.5\n",
      " 1045657.56 1108033.8  1281821.9   967686.9  1169257.    868215.5\n",
      " 1623278.2  1389296.1  1660822.8  1248504.5   936949.4  1218274.9\n",
      " 1220662.5  1183617.4  1175693.1  1526316.   1664107.5  1005499.8\n",
      " 1399043.9   826398.06  983070.6  1534667.9  1204910.8  1091238.5\n",
      " 1381826.5  1111636.2  1301932.6  1316769.   1390714.4   949491.\n",
      " 1156854.5  1299642.1  1160763.8  1351451.   1479258.6  1135773.2\n",
      "  844618.6  1398998.1  1196123.4   973689.   1171049.5  1695405.4\n",
      " 1169442.5  1534057.2  1465562.8  1403702.6  1863117.6  1040993.75\n",
      " 1234470.4   774168.56 1152767.5  1398453.2  1745961.4   926370.\n",
      " 1017918.9  1267190.5  1174488.4  1219729.1  1623117.   1088616.\n",
      " 1684753.1  1012640.56  979756.56  894783.7  1274164.5  1578864.2\n",
      " 1001295.25 1442082.9  1585321.4  1165141.2  1027900.56 1640056.4\n",
      "  671231.4  1724635.9  1184005.9  1793573.6  1351433.2  1284627.4\n",
      "  932338.06 1216283.6  1127357.5  1774551.4  1348066.5   789238.4\n",
      " 1587599.9  1272430.6   870970.5   735342.8  1407108.4  1632539.2\n",
      " 1088539.8  1008946.56 1603761.4  1232433.1   780693.6  1432765.5\n",
      "  448235.72  697755.8  1569257.8  1340265.8  1099103.4  1345543.6\n",
      " 1473093.1  1248141.5  1248453.2  1641026.6  1199020.   1168861.8\n",
      " 1416619.4  1286402.5  1620924.2  1051094.2  1307171.4  1349383.8\n",
      "  845541.8  1591167.8   838722.2  1222907.    922452.56 1388804.1\n",
      " 1354795.1  1049989.4   707651.75  703356.4  1468972.8  1475879.1\n",
      "  584702.6   983121.1  1625397.5  1849197.    925743.1   894823.\n",
      " 1233017.1  1651491.9  1063119.5   687079.44 1588802.5  1257323.5\n",
      " 1637034.9  1173333.    622089.9   851569.2  1087593.8  1742362.9 ]\n"
     ]
    }
   ],
   "source": [
    "Perdicted_On_X_test=Model.predict(x_test)\n",
    "print(Perdicted_On_X_test)"
   ]
  },
  {
   "cell_type": "code",
   "execution_count": 70,
   "id": "8ddd053e",
   "metadata": {},
   "outputs": [
    {
     "data": {
      "text/plain": [
       "Price    1480441.534\n",
       "Name: 4136, dtype: float64"
      ]
     },
     "execution_count": 70,
     "metadata": {},
     "output_type": "execute_result"
    }
   ],
   "source": [
    "y_test.iloc[0]"
   ]
  },
  {
   "cell_type": "code",
   "execution_count": 75,
   "id": "4c030328",
   "metadata": {},
   "outputs": [
    {
     "name": "stdout",
     "output_type": "stream",
     "text": [
      "R squared error :  0.8663441899439148\n",
      "Mean Absolute Error :  101012.91833991768\n"
     ]
    }
   ],
   "source": [
    "# R squared error\n",
    "score_1 = metrics.r2_score(y_test, Perdicted_On_X_test)\n",
    "\n",
    "# Mean Absolute Error\n",
    "score_2 = metrics.mean_absolute_error(y_test, Perdicted_On_X_test)\n",
    "\n",
    "print(\"R squared error : \", score_1)\n",
    "print('Mean Absolute Error : ', score_2)"
   ]
  },
  {
   "cell_type": "code",
   "execution_count": 76,
   "id": "2ea9d2ad",
   "metadata": {},
   "outputs": [
    {
     "data": {
      "image/png": "[encoded data removed]",
      "text/plain": [
       "<Figure size 640x480 with 1 Axes>"
      ]
     },
     "metadata": {},
     "output_type": "display_data"
    }
   ],
   "source": [
    "plt.scatter(y_test, Perdicted_On_X_test)\n",
    "plt.xlabel(\"Actual Prices\")\n",
    "plt.ylabel(\"Predicted Prices\")\n",
    "plt.title(\"Actual Price vs Preicted Price\")\n",
    "plt.show()"
   ]
  },
  {
   "cell_type": "code",
   "execution_count": null,
   "id": "f025631d",
   "metadata": {},
   "outputs": [],
   "source": []
  }
 ],
 "metadata": {
  "kernelspec": {
   "display_name": "Python 3 (ipykernel)",
   "language": "python",
   "name": "python3"
  },
  "language_info": {
   "codemirror_mode": {
    "name": "ipython",
    "version": 3
   },
   "file_extension": ".py",
   "mimetype": "text/x-python",
   "name": "python",
   "nbconvert_exporter": "python",
   "pygments_lexer": "ipython3",
   "version": "3.11.5"
  }
 },
 "nbformat": 4,
 "nbformat_minor": 5
}
